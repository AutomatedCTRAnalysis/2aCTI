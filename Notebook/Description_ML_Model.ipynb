{
 "cells": [
  {
   "cell_type": "code",
   "execution_count": 1,
   "id": "caaf6a4c",
   "metadata": {},
   "outputs": [],
   "source": [
    "from sklearn.feature_extraction.text import CountVectorizer, TfidfVectorizer\n",
    "from sklearn.model_selection import train_test_split\n",
    "from sklearn.metrics import classification_report, confusion_matrix, f1_score, fbeta_score, precision_score, recall_score\n",
    "from sklearn.naive_bayes import MultinomialNB\n",
    "from sklearn.svm import LinearSVC\n",
    "from sklearn.multiclass import OneVsRestClassifier\n",
    "from sklearn.metrics import multilabel_confusion_matrix, plot_confusion_matrix, classification_report\n",
    "from sklearn.preprocessing import MultiLabelBinarizer\n",
    "from sklearn.metrics.pairwise import cosine_similarity\n",
    "from skmultilearn.adapt import MLkNN\n",
    "from sklearn.linear_model import LogisticRegression, Perceptron, RidgeClassifier, SGDClassifier\n",
    "from sklearn.multioutput import ClassifierChain\n",
    "from sklearn.ensemble import AdaBoostClassifier \n",
    "\n",
    "import pandas as pd\n",
    "import json\n",
    "import os\n",
    "import re\n",
    "\n",
    "import pickle\n",
    "import nltk\n",
    "from nltk.tokenize import word_tokenize\n",
    "\n",
    "import gensim \n",
    "from gensim.models import Word2Vec\n",
    "import gensim.downloader\n",
    "\n",
    "\n",
    "import spacy\n",
    "import matplotlib\n",
    "import plotly.express as px\n",
    "import plotly.subplots as sp\n",
    "from plotly.subplots import make_subplots\n",
    "from ast import literal_eval\n",
    "from tqdm import tqdm\n",
    "\n",
    "import sklearn.metrics\n",
    "import numpy as np\n",
    "\n",
    "import matplotlib.pyplot as plt\n",
    "plt.style.use('seaborn')\n",
    "\n",
    "from sklearn.decomposition import PCA\n",
    "from sklearn.manifold import TSNE"
   ]
  },
  {
   "cell_type": "code",
   "execution_count": 2,
   "id": "519b51f8",
   "metadata": {},
   "outputs": [
    {
     "name": "stderr",
     "output_type": "stream",
     "text": [
      "[nltk_data] Downloading package punkt to /homes/lgf21/nltk_data...\n",
      "[nltk_data]   Package punkt is already up-to-date!\n"
     ]
    },
    {
     "data": {
      "text/plain": [
       "True"
      ]
     },
     "execution_count": 2,
     "metadata": {},
     "output_type": "execute_result"
    }
   ],
   "source": [
    "nltk.download('punkt')"
   ]
  },
  {
   "cell_type": "code",
   "execution_count": 3,
   "id": "2ca08dcc",
   "metadata": {},
   "outputs": [],
   "source": [
    "tqdm.pandas()"
   ]
  },
  {
   "cell_type": "markdown",
   "id": "e8fe36eb",
   "metadata": {},
   "source": [
    "# Opening Files: "
   ]
  },
  {
   "cell_type": "code",
   "execution_count": 4,
   "id": "6baf45d1",
   "metadata": {},
   "outputs": [],
   "source": [
    "data = '../src/scraping/technique_dataset.json'\n",
    "with open(data) as file:\n",
    "    open_data = json.load(file)\n",
    "\n",
    "# Converting to Data Frames: \n",
    "    \n",
    "df = pd.DataFrame(open_data).transpose().reset_index(drop = True)\n"
   ]
  },
  {
   "cell_type": "code",
   "execution_count": 6,
   "id": "013835bd",
   "metadata": {},
   "outputs": [
    {
     "data": {
      "text/html": [
       "<div>\n",
       "<style scoped>\n",
       "    .dataframe tbody tr th:only-of-type {\n",
       "        vertical-align: middle;\n",
       "    }\n",
       "\n",
       "    .dataframe tbody tr th {\n",
       "        vertical-align: top;\n",
       "    }\n",
       "\n",
       "    .dataframe thead th {\n",
       "        text-align: right;\n",
       "    }\n",
       "</style>\n",
       "<table border=\"1\" class=\"dataframe\">\n",
       "  <thead>\n",
       "    <tr style=\"text-align: right;\">\n",
       "      <th></th>\n",
       "      <th>Technique_ID</th>\n",
       "      <th>Technique_Name</th>\n",
       "      <th>Description</th>\n",
       "    </tr>\n",
       "  </thead>\n",
       "  <tbody>\n",
       "    <tr>\n",
       "      <th>0</th>\n",
       "      <td>T1548</td>\n",
       "      <td>[Abuse Elevation Control Mechanism]</td>\n",
       "      <td>[Adversaries may circumvent mechanisms designe...</td>\n",
       "    </tr>\n",
       "    <tr>\n",
       "      <th>1</th>\n",
       "      <td>T1134</td>\n",
       "      <td>[Access Token Manipulation]</td>\n",
       "      <td>[Adversaries may modify access tokens to opera...</td>\n",
       "    </tr>\n",
       "    <tr>\n",
       "      <th>2</th>\n",
       "      <td>T1531</td>\n",
       "      <td>[Account Access Removal]</td>\n",
       "      <td>[Adversaries may interrupt availability of sys...</td>\n",
       "    </tr>\n",
       "    <tr>\n",
       "      <th>3</th>\n",
       "      <td>T1087</td>\n",
       "      <td>[Account Discovery]</td>\n",
       "      <td>[Adversaries may attempt to get a listing of a...</td>\n",
       "    </tr>\n",
       "    <tr>\n",
       "      <th>4</th>\n",
       "      <td>T1098</td>\n",
       "      <td>[Account Manipulation]</td>\n",
       "      <td>[Adversaries may manipulate accounts to mainta...</td>\n",
       "    </tr>\n",
       "    <tr>\n",
       "      <th>...</th>\n",
       "      <td>...</td>\n",
       "      <td>...</td>\n",
       "      <td>...</td>\n",
       "    </tr>\n",
       "    <tr>\n",
       "      <th>264</th>\n",
       "      <td>T0855</td>\n",
       "      <td>[Unauthorized Command Message]</td>\n",
       "      <td>[Adversaries may send unauthorized command mes...</td>\n",
       "    </tr>\n",
       "    <tr>\n",
       "      <th>265</th>\n",
       "      <td>T0863</td>\n",
       "      <td>[User Execution]</td>\n",
       "      <td>[Adversaries may rely on a targeted organizati...</td>\n",
       "    </tr>\n",
       "    <tr>\n",
       "      <th>266</th>\n",
       "      <td>T0859</td>\n",
       "      <td>[Valid Accounts]</td>\n",
       "      <td>[Adversaries may steal the credentials of a sp...</td>\n",
       "    </tr>\n",
       "    <tr>\n",
       "      <th>267</th>\n",
       "      <td>T0860</td>\n",
       "      <td>[Wireless Compromise]</td>\n",
       "      <td>[Adversaries may perform wireless compromise a...</td>\n",
       "    </tr>\n",
       "    <tr>\n",
       "      <th>268</th>\n",
       "      <td>T0887</td>\n",
       "      <td>[Wireless Sniffing]</td>\n",
       "      <td>[Adversaries may seek to capture radio frequen...</td>\n",
       "    </tr>\n",
       "  </tbody>\n",
       "</table>\n",
       "<p>269 rows × 3 columns</p>\n",
       "</div>"
      ],
      "text/plain": [
       "    Technique_ID                       Technique_Name  \\\n",
       "0          T1548  [Abuse Elevation Control Mechanism]   \n",
       "1          T1134          [Access Token Manipulation]   \n",
       "2          T1531             [Account Access Removal]   \n",
       "3          T1087                  [Account Discovery]   \n",
       "4          T1098               [Account Manipulation]   \n",
       "..           ...                                  ...   \n",
       "264        T0855       [Unauthorized Command Message]   \n",
       "265        T0863                     [User Execution]   \n",
       "266        T0859                     [Valid Accounts]   \n",
       "267        T0860                [Wireless Compromise]   \n",
       "268        T0887                  [Wireless Sniffing]   \n",
       "\n",
       "                                           Description  \n",
       "0    [Adversaries may circumvent mechanisms designe...  \n",
       "1    [Adversaries may modify access tokens to opera...  \n",
       "2    [Adversaries may interrupt availability of sys...  \n",
       "3    [Adversaries may attempt to get a listing of a...  \n",
       "4    [Adversaries may manipulate accounts to mainta...  \n",
       "..                                                 ...  \n",
       "264  [Adversaries may send unauthorized command mes...  \n",
       "265  [Adversaries may rely on a targeted organizati...  \n",
       "266  [Adversaries may steal the credentials of a sp...  \n",
       "267  [Adversaries may perform wireless compromise a...  \n",
       "268  [Adversaries may seek to capture radio frequen...  \n",
       "\n",
       "[269 rows x 3 columns]"
      ]
     },
     "execution_count": 6,
     "metadata": {},
     "output_type": "execute_result"
    }
   ],
   "source": []
  },
  {
   "cell_type": "code",
   "execution_count": null,
   "id": "d04f61aa",
   "metadata": {},
   "outputs": [],
   "source": [
    "similarities = cosine_similarity(X_train, X_test)"
   ]
  },
  {
   "cell_type": "code",
   "execution_count": null,
   "id": "6f1f4f7f",
   "metadata": {},
   "outputs": [],
   "source": [
    "# check if articles have a cosine similarity of more than 90%\n",
    "duplicates = set() \n",
    "for i in range(similarities.shape[0]):\n",
    "    for j in range(similarities.shape[1]):\n",
    "        if similarities[i][j] > 0.9:\n",
    "            \n",
    "            duplicates.add(i)"
   ]
  },
  {
   "cell_type": "code",
   "execution_count": null,
   "id": "f6625fee",
   "metadata": {},
   "outputs": [],
   "source": [
    "# remove similar articles\n",
    "X_train = X_train[~X_train.index.isin(duplicates)]\n",
    "Y_train = Y_train[~Y_train.index.isin(duplicates)]"
   ]
  }
 ],
 "metadata": {
  "kernelspec": {
   "display_name": "Python 3 (ipykernel)",
   "language": "python",
   "name": "python3"
  },
  "language_info": {
   "codemirror_mode": {
    "name": "ipython",
    "version": 3
   },
   "file_extension": ".py",
   "mimetype": "text/x-python",
   "name": "python",
   "nbconvert_exporter": "python",
   "pygments_lexer": "ipython3",
   "version": "3.9.12"
  }
 },
 "nbformat": 4,
 "nbformat_minor": 5
}
