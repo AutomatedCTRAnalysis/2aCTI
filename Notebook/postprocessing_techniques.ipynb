{
 "cells": [
  {
   "cell_type": "code",
   "execution_count": 76,
   "id": "6d1180c9",
   "metadata": {},
   "outputs": [],
   "source": [
    "from sklearn.feature_extraction.text import CountVectorizer, TfidfVectorizer\n",
    "from sklearn.model_selection import train_test_split\n",
    "from sklearn.metrics import classification_report, confusion_matrix, f1_score, fbeta_score, precision_score, recall_score\n",
    "from sklearn.naive_bayes import MultinomialNB\n",
    "from sklearn.svm import LinearSVC\n",
    "from sklearn.multiclass import OneVsRestClassifier\n",
    "from sklearn.metrics import multilabel_confusion_matrix, plot_confusion_matrix, classification_report\n",
    "from sklearn.preprocessing import MultiLabelBinarizer\n",
    "from sklearn.metrics.pairwise import cosine_similarity\n",
    "from skmultilearn.adapt import MLkNN\n",
    "from sklearn.linear_model import LogisticRegression, Perceptron, RidgeClassifier, SGDClassifier\n",
    "from sklearn.multioutput import ClassifierChain\n",
    "from sklearn.ensemble import AdaBoostClassifier \n",
    "from sklearn.calibration import CalibratedClassifierCV\n",
    "from sklearn.multioutput import MultiOutputClassifier\n",
    "\n",
    "\n",
    "import pandas as pd\n",
    "import json\n",
    "import os\n",
    "import re\n",
    "\n",
    "import pickle\n",
    "import nltk\n",
    "from nltk.tokenize import word_tokenize\n",
    "\n",
    "import gensim \n",
    "from gensim.models import Word2Vec\n",
    "import gensim.downloader\n",
    "\n",
    "\n",
    "import spacy\n",
    "import matplotlib\n",
    "import plotly.express as px\n",
    "import plotly.subplots as sp\n",
    "import plotly.graph_objects as go\n",
    "from plotly.subplots import make_subplots\n",
    "from ast import literal_eval\n",
    "from tqdm import tqdm\n",
    "\n",
    "import sklearn.metrics\n",
    "import numpy as np\n",
    "\n",
    "import matplotlib.pyplot as plt\n",
    "plt.style.use('seaborn')\n",
    "\n",
    "from sklearn.decomposition import PCA\n",
    "from sklearn.manifold import TSNE"
   ]
  },
  {
   "cell_type": "code",
   "execution_count": 77,
   "id": "e967a3ce",
   "metadata": {},
   "outputs": [
    {
     "name": "stderr",
     "output_type": "stream",
     "text": [
      "[nltk_data] Downloading package punkt to /homes/lgf21/nltk_data...\n",
      "[nltk_data]   Package punkt is already up-to-date!\n"
     ]
    }
   ],
   "source": [
    "nltk.download('punkt')\n",
    "tqdm.pandas()"
   ]
  },
  {
   "cell_type": "code",
   "execution_count": 78,
   "id": "2e9b5bb0",
   "metadata": {},
   "outputs": [],
   "source": [
    "# Open Pickle without lemmatisation: \n",
    "\n",
    "with open('merged_data_no_duplicates.pickle', 'rb') as handle:\n",
    "    (X_train_text, X_test_text, Y_train_tactic, Y_test_tactic, Y_train, Y_test) = pickle.load(handle)"
   ]
  },
  {
   "cell_type": "markdown",
   "id": "efea3f71",
   "metadata": {},
   "source": [
    "# Feature Extraction:"
   ]
  },
  {
   "cell_type": "code",
   "execution_count": 79,
   "id": "978b47d6",
   "metadata": {},
   "outputs": [],
   "source": [
    "# call methods for feature extraction and evaluation:\n",
    "import sys\n",
    "sys.path.append('../src')\n",
    "\n",
    "from methods import feature_extraction, evaluation"
   ]
  },
  {
   "cell_type": "code",
   "execution_count": 80,
   "id": "dc44a1d6",
   "metadata": {},
   "outputs": [
    {
     "name": "stderr",
     "output_type": "stream",
     "text": [
      "/vol/bitbucket/lgf21/anaconda3/lib/python3.9/site-packages/sklearn/utils/deprecation.py:87: FutureWarning: Function get_feature_names is deprecated; get_feature_names is deprecated in 1.0 and will be removed in 1.2. Please use get_feature_names_out instead.\n",
      "  warnings.warn(msg, category=FutureWarning)\n",
      "/vol/bitbucket/lgf21/anaconda3/lib/python3.9/site-packages/sklearn/utils/deprecation.py:87: FutureWarning: Function get_feature_names is deprecated; get_feature_names is deprecated in 1.0 and will be removed in 1.2. Please use get_feature_names_out instead.\n",
      "  warnings.warn(msg, category=FutureWarning)\n"
     ]
    }
   ],
   "source": [
    "X_train, X_test = feature_extraction('TfIdfVectorizer', X_train_text, X_test_text)"
   ]
  },
  {
   "cell_type": "code",
   "execution_count": 31,
   "id": "631f326a",
   "metadata": {},
   "outputs": [
    {
     "data": {
      "text/plain": [
       "319     Duqu - Wikipedia Duqu From Wikipedia, the free...\n",
       "336     Disk Content Wipe - Enterprise | MITRE ATT&CK\\...\n",
       "1077    Skip to main contentSkip to footerSkip to main...\n",
       "486     Access Token Manipulation - Enterprise | MITRE...\n",
       "371     SSH Agent Hijacking - Clockwork Skip to Conten...\n",
       "Name: Text, dtype: object"
      ]
     },
     "execution_count": 31,
     "metadata": {},
     "output_type": "execute_result"
    }
   ],
   "source": [
    "X_test_text.head()"
   ]
  },
  {
   "cell_type": "code",
   "execution_count": 81,
   "id": "ce2cd7e3",
   "metadata": {},
   "outputs": [
    {
     "data": {
      "text/plain": [
       "OneVsRestClassifier(estimator=LinearSVC(class_weight='balanced', dual=False,\n",
       "                                        random_state=42),\n",
       "                    n_jobs=1)"
      ]
     },
     "execution_count": 81,
     "metadata": {},
     "output_type": "execute_result"
    }
   ],
   "source": [
    "# Train and test: First delete techniques less than 9 \n",
    "# We fix the random state to have the same dataset in our different tests@\n",
    "\n",
    "sv_classifier = OneVsRestClassifier(LinearSVC(penalty = 'l2', loss = 'squared_hinge', dual = False, max_iter = 1000, class_weight = 'balanced', random_state=42), n_jobs = 1)\n",
    "sv_classifier.fit(X_train, Y_train)\n"
   ]
  },
  {
   "cell_type": "code",
   "execution_count": 82,
   "id": "37484b23",
   "metadata": {},
   "outputs": [],
   "source": [
    "Y_pred = pd.DataFrame(sv_classifier.predict(X_test), columns=Y_test.columns)"
   ]
  },
  {
   "cell_type": "code",
   "execution_count": 59,
   "id": "3701facf",
   "metadata": {},
   "outputs": [
    {
     "name": "stderr",
     "output_type": "stream",
     "text": [
      "/vol/bitbucket/lgf21/anaconda3/lib/python3.9/site-packages/sklearn/metrics/_classification.py:1318: UndefinedMetricWarning: Precision is ill-defined and being set to 0.0 in labels with no predicted samples. Use `zero_division` parameter to control this behavior.\n",
      "  _warn_prf(average, modifier, msg_start, len(result))\n",
      "/vol/bitbucket/lgf21/anaconda3/lib/python3.9/site-packages/sklearn/metrics/_classification.py:1318: UndefinedMetricWarning: Recall is ill-defined and being set to 0.0 in labels with no true samples. Use `zero_division` parameter to control this behavior.\n",
      "  _warn_prf(average, modifier, msg_start, len(result))\n",
      "/vol/bitbucket/lgf21/anaconda3/lib/python3.9/site-packages/sklearn/metrics/_classification.py:1580: UndefinedMetricWarning: F-score is ill-defined and being set to 0.0 in labels with no true nor predicted samples. Use `zero_division` parameter to control this behavior.\n",
      "  _warn_prf(average, \"true nor predicted\", \"F-score is\", len(true_sum))\n"
     ]
    },
    {
     "data": {
      "text/html": [
       "<div>\n",
       "<style scoped>\n",
       "    .dataframe tbody tr th:only-of-type {\n",
       "        vertical-align: middle;\n",
       "    }\n",
       "\n",
       "    .dataframe tbody tr th {\n",
       "        vertical-align: top;\n",
       "    }\n",
       "\n",
       "    .dataframe thead th {\n",
       "        text-align: right;\n",
       "    }\n",
       "</style>\n",
       "<table border=\"1\" class=\"dataframe\">\n",
       "  <thead>\n",
       "    <tr style=\"text-align: right;\">\n",
       "      <th></th>\n",
       "      <th>metric</th>\n",
       "      <th>result</th>\n",
       "    </tr>\n",
       "  </thead>\n",
       "  <tbody>\n",
       "    <tr>\n",
       "      <th>0</th>\n",
       "      <td>macro precision</td>\n",
       "      <td>0.523972</td>\n",
       "    </tr>\n",
       "    <tr>\n",
       "      <th>1</th>\n",
       "      <td>micro precision</td>\n",
       "      <td>0.544892</td>\n",
       "    </tr>\n",
       "    <tr>\n",
       "      <th>2</th>\n",
       "      <td>macro recall</td>\n",
       "      <td>0.364063</td>\n",
       "    </tr>\n",
       "    <tr>\n",
       "      <th>3</th>\n",
       "      <td>micro recall</td>\n",
       "      <td>0.404830</td>\n",
       "    </tr>\n",
       "    <tr>\n",
       "      <th>4</th>\n",
       "      <td>macro fscore</td>\n",
       "      <td>0.452901</td>\n",
       "    </tr>\n",
       "    <tr>\n",
       "      <th>5</th>\n",
       "      <td>micro fscore</td>\n",
       "      <td>0.509628</td>\n",
       "    </tr>\n",
       "  </tbody>\n",
       "</table>\n",
       "</div>"
      ],
      "text/plain": [
       "            metric    result\n",
       "0  macro precision  0.523972\n",
       "1  micro precision  0.544892\n",
       "2     macro recall  0.364063\n",
       "3     micro recall  0.404830\n",
       "4     macro fscore  0.452901\n",
       "5     micro fscore  0.509628"
      ]
     },
     "execution_count": 59,
     "metadata": {},
     "output_type": "execute_result"
    }
   ],
   "source": [
    "evaluation(Y_pred, Y_test)"
   ]
  },
  {
   "cell_type": "code",
   "execution_count": 84,
   "id": "b35e4c06",
   "metadata": {},
   "outputs": [
    {
     "ename": "OSError",
     "evalue": "[Errno 122] Disk quota exceeded",
     "output_type": "error",
     "traceback": [
      "\u001b[0;31m---------------------------------------------------------------------------\u001b[0m",
      "\u001b[0;31mOSError\u001b[0m                                   Traceback (most recent call last)",
      "Input \u001b[0;32mIn [84]\u001b[0m, in \u001b[0;36m<cell line: 3>\u001b[0;34m()\u001b[0m\n\u001b[1;32m      1\u001b[0m \u001b[38;5;66;03m# Save as pickle technique performance: \u001b[39;00m\n\u001b[1;32m      3\u001b[0m \u001b[38;5;28;01mwith\u001b[39;00m \u001b[38;5;28mopen\u001b[39m(\u001b[38;5;124m'\u001b[39m\u001b[38;5;124mtechnique_model_tfidf_svc.pickle\u001b[39m\u001b[38;5;124m'\u001b[39m, \u001b[38;5;124m'\u001b[39m\u001b[38;5;124mwb\u001b[39m\u001b[38;5;124m'\u001b[39m) \u001b[38;5;28;01mas\u001b[39;00m handle:\n\u001b[0;32m----> 4\u001b[0m     pickle\u001b[38;5;241m.\u001b[39mdump(sv_classifier, handle, protocol\u001b[38;5;241m=\u001b[39mpickle\u001b[38;5;241m.\u001b[39mHIGHEST_PROTOCOL)\n",
      "\u001b[0;31mOSError\u001b[0m: [Errno 122] Disk quota exceeded"
     ]
    }
   ],
   "source": [
    "# Save as pickle technique performance: \n",
    "\n",
    "with open('postprocessing.pickle', 'wb') as handle:\n",
    "    pickle.dump(sv_classifier, handle, protocol=pickle.HIGHEST_PROTOCOL)"
   ]
  },
  {
   "cell_type": "markdown",
   "id": "14e04ab2",
   "metadata": {},
   "source": [
    "# Open Tactic Performance: "
   ]
  },
  {
   "cell_type": "code",
   "execution_count": 72,
   "id": "22854a5b",
   "metadata": {},
   "outputs": [],
   "source": [
    "# Open Pickle: \n",
    "\n",
    "with open('tactic_model_no_lemma.pickle', 'rb') as handle:\n",
    "    tactic_model = pickle.load(handle)"
   ]
  },
  {
   "cell_type": "code",
   "execution_count": 73,
   "id": "5beeb8b3",
   "metadata": {},
   "outputs": [],
   "source": [
    "data = '../src/scraping/tactic_dataset.json'"
   ]
  },
  {
   "cell_type": "code",
   "execution_count": 74,
   "id": "350b6e74",
   "metadata": {},
   "outputs": [],
   "source": [
    "with open(data) as file:\n",
    "    tactic_data = json.load(file)"
   ]
  },
  {
   "cell_type": "code",
   "execution_count": 25,
   "id": "4403f80b",
   "metadata": {},
   "outputs": [],
   "source": [
    "# Open Pickle: \n",
    "\n",
    "#with open('tactic_train_test.pickle', 'rb') as handle:\n",
    "#    X_train, X_test, Y_train_tactic, Y_test_tactic = pickle.load(handle)\n"
   ]
  },
  {
   "cell_type": "code",
   "execution_count": 189,
   "id": "ade7488e",
   "metadata": {},
   "outputs": [
    {
     "data": {
      "text/html": [
       "<div>\n",
       "<style scoped>\n",
       "    .dataframe tbody tr th:only-of-type {\n",
       "        vertical-align: middle;\n",
       "    }\n",
       "\n",
       "    .dataframe tbody tr th {\n",
       "        vertical-align: top;\n",
       "    }\n",
       "\n",
       "    .dataframe thead th {\n",
       "        text-align: right;\n",
       "    }\n",
       "</style>\n",
       "<table border=\"1\" class=\"dataframe\">\n",
       "  <thead>\n",
       "    <tr style=\"text-align: right;\">\n",
       "      <th></th>\n",
       "      <th>TA0006</th>\n",
       "      <th>TA0002</th>\n",
       "      <th>TA0040</th>\n",
       "      <th>TA0003</th>\n",
       "      <th>TA0004</th>\n",
       "      <th>TA0008</th>\n",
       "      <th>TA0005</th>\n",
       "      <th>TA0010</th>\n",
       "      <th>TA0007</th>\n",
       "      <th>TA0009</th>\n",
       "      <th>TA0011</th>\n",
       "      <th>TA0001</th>\n",
       "    </tr>\n",
       "  </thead>\n",
       "  <tbody>\n",
       "    <tr>\n",
       "      <th>319</th>\n",
       "      <td>0</td>\n",
       "      <td>0</td>\n",
       "      <td>0</td>\n",
       "      <td>0</td>\n",
       "      <td>0</td>\n",
       "      <td>0</td>\n",
       "      <td>1</td>\n",
       "      <td>0</td>\n",
       "      <td>0</td>\n",
       "      <td>0</td>\n",
       "      <td>0</td>\n",
       "      <td>0</td>\n",
       "    </tr>\n",
       "    <tr>\n",
       "      <th>336</th>\n",
       "      <td>0</td>\n",
       "      <td>0</td>\n",
       "      <td>1</td>\n",
       "      <td>0</td>\n",
       "      <td>0</td>\n",
       "      <td>0</td>\n",
       "      <td>0</td>\n",
       "      <td>0</td>\n",
       "      <td>0</td>\n",
       "      <td>0</td>\n",
       "      <td>0</td>\n",
       "      <td>0</td>\n",
       "    </tr>\n",
       "    <tr>\n",
       "      <th>1077</th>\n",
       "      <td>0</td>\n",
       "      <td>1</td>\n",
       "      <td>0</td>\n",
       "      <td>1</td>\n",
       "      <td>1</td>\n",
       "      <td>0</td>\n",
       "      <td>1</td>\n",
       "      <td>0</td>\n",
       "      <td>1</td>\n",
       "      <td>0</td>\n",
       "      <td>0</td>\n",
       "      <td>0</td>\n",
       "    </tr>\n",
       "    <tr>\n",
       "      <th>486</th>\n",
       "      <td>0</td>\n",
       "      <td>0</td>\n",
       "      <td>0</td>\n",
       "      <td>0</td>\n",
       "      <td>1</td>\n",
       "      <td>0</td>\n",
       "      <td>1</td>\n",
       "      <td>0</td>\n",
       "      <td>0</td>\n",
       "      <td>0</td>\n",
       "      <td>0</td>\n",
       "      <td>0</td>\n",
       "    </tr>\n",
       "    <tr>\n",
       "      <th>371</th>\n",
       "      <td>0</td>\n",
       "      <td>0</td>\n",
       "      <td>0</td>\n",
       "      <td>0</td>\n",
       "      <td>0</td>\n",
       "      <td>1</td>\n",
       "      <td>0</td>\n",
       "      <td>0</td>\n",
       "      <td>0</td>\n",
       "      <td>0</td>\n",
       "      <td>0</td>\n",
       "      <td>0</td>\n",
       "    </tr>\n",
       "    <tr>\n",
       "      <th>...</th>\n",
       "      <td>...</td>\n",
       "      <td>...</td>\n",
       "      <td>...</td>\n",
       "      <td>...</td>\n",
       "      <td>...</td>\n",
       "      <td>...</td>\n",
       "      <td>...</td>\n",
       "      <td>...</td>\n",
       "      <td>...</td>\n",
       "      <td>...</td>\n",
       "      <td>...</td>\n",
       "      <td>...</td>\n",
       "    </tr>\n",
       "    <tr>\n",
       "      <th>1477</th>\n",
       "      <td>0</td>\n",
       "      <td>0</td>\n",
       "      <td>0</td>\n",
       "      <td>1</td>\n",
       "      <td>1</td>\n",
       "      <td>0</td>\n",
       "      <td>0</td>\n",
       "      <td>0</td>\n",
       "      <td>0</td>\n",
       "      <td>0</td>\n",
       "      <td>0</td>\n",
       "      <td>0</td>\n",
       "    </tr>\n",
       "    <tr>\n",
       "      <th>1376</th>\n",
       "      <td>0</td>\n",
       "      <td>1</td>\n",
       "      <td>0</td>\n",
       "      <td>1</td>\n",
       "      <td>1</td>\n",
       "      <td>0</td>\n",
       "      <td>0</td>\n",
       "      <td>0</td>\n",
       "      <td>0</td>\n",
       "      <td>0</td>\n",
       "      <td>0</td>\n",
       "      <td>0</td>\n",
       "    </tr>\n",
       "    <tr>\n",
       "      <th>415</th>\n",
       "      <td>0</td>\n",
       "      <td>0</td>\n",
       "      <td>0</td>\n",
       "      <td>1</td>\n",
       "      <td>0</td>\n",
       "      <td>0</td>\n",
       "      <td>1</td>\n",
       "      <td>0</td>\n",
       "      <td>0</td>\n",
       "      <td>0</td>\n",
       "      <td>0</td>\n",
       "      <td>0</td>\n",
       "    </tr>\n",
       "    <tr>\n",
       "      <th>880</th>\n",
       "      <td>0</td>\n",
       "      <td>0</td>\n",
       "      <td>0</td>\n",
       "      <td>1</td>\n",
       "      <td>0</td>\n",
       "      <td>0</td>\n",
       "      <td>1</td>\n",
       "      <td>0</td>\n",
       "      <td>0</td>\n",
       "      <td>0</td>\n",
       "      <td>1</td>\n",
       "      <td>0</td>\n",
       "    </tr>\n",
       "    <tr>\n",
       "      <th>1201</th>\n",
       "      <td>0</td>\n",
       "      <td>0</td>\n",
       "      <td>0</td>\n",
       "      <td>0</td>\n",
       "      <td>0</td>\n",
       "      <td>0</td>\n",
       "      <td>0</td>\n",
       "      <td>0</td>\n",
       "      <td>1</td>\n",
       "      <td>0</td>\n",
       "      <td>0</td>\n",
       "      <td>0</td>\n",
       "    </tr>\n",
       "  </tbody>\n",
       "</table>\n",
       "<p>441 rows × 12 columns</p>\n",
       "</div>"
      ],
      "text/plain": [
       "      TA0006  TA0002  TA0040  TA0003  TA0004  TA0008  TA0005  TA0010  TA0007  \\\n",
       "319        0       0       0       0       0       0       1       0       0   \n",
       "336        0       0       1       0       0       0       0       0       0   \n",
       "1077       0       1       0       1       1       0       1       0       1   \n",
       "486        0       0       0       0       1       0       1       0       0   \n",
       "371        0       0       0       0       0       1       0       0       0   \n",
       "...      ...     ...     ...     ...     ...     ...     ...     ...     ...   \n",
       "1477       0       0       0       1       1       0       0       0       0   \n",
       "1376       0       1       0       1       1       0       0       0       0   \n",
       "415        0       0       0       1       0       0       1       0       0   \n",
       "880        0       0       0       1       0       0       1       0       0   \n",
       "1201       0       0       0       0       0       0       0       0       1   \n",
       "\n",
       "      TA0009  TA0011  TA0001  \n",
       "319        0       0       0  \n",
       "336        0       0       0  \n",
       "1077       0       0       0  \n",
       "486        0       0       0  \n",
       "371        0       0       0  \n",
       "...      ...     ...     ...  \n",
       "1477       0       0       0  \n",
       "1376       0       0       0  \n",
       "415        0       0       0  \n",
       "880        0       1       0  \n",
       "1201       0       0       0  \n",
       "\n",
       "[441 rows x 12 columns]"
      ]
     },
     "execution_count": 189,
     "metadata": {},
     "output_type": "execute_result"
    }
   ],
   "source": [
    "Y_test_tactic_pickle"
   ]
  },
  {
   "cell_type": "code",
   "execution_count": 75,
   "id": "16dc519e",
   "metadata": {},
   "outputs": [
    {
     "name": "stderr",
     "output_type": "stream",
     "text": [
      "/vol/bitbucket/lgf21/anaconda3/lib/python3.9/site-packages/sklearn/base.py:493: FutureWarning: The feature names should match those that were passed during fit. Starting version 1.2, an error will be raised.\n",
      "Feature names unseen at fit time:\n",
      "- 0000000\n",
      "- 0000000010\n",
      "- 0000000020\n",
      "- 0000000030\n",
      "- 0000000040\n",
      "- ...\n",
      "Feature names seen at fit time, yet now missing:\n",
      "- agesen\n",
      "- alors\n",
      "- ampleur\n",
      "- anciennes\n",
      "- attaquants\n",
      "- ...\n",
      "\n",
      "  warnings.warn(message, FutureWarning)\n"
     ]
    },
    {
     "ename": "ValueError",
     "evalue": "X has 74675 features, but LinearSVC is expecting 69856 features as input.",
     "output_type": "error",
     "traceback": [
      "\u001b[0;31m---------------------------------------------------------------------------\u001b[0m",
      "\u001b[0;31mValueError\u001b[0m                                Traceback (most recent call last)",
      "Input \u001b[0;32mIn [75]\u001b[0m, in \u001b[0;36m<cell line: 1>\u001b[0;34m()\u001b[0m\n\u001b[0;32m----> 1\u001b[0m Y_test_pred_tactic \u001b[38;5;241m=\u001b[39m pd\u001b[38;5;241m.\u001b[39mDataFrame(\u001b[43mtactic_model\u001b[49m\u001b[38;5;241;43m.\u001b[39;49m\u001b[43mpredict\u001b[49m\u001b[43m(\u001b[49m\u001b[43mX_test_tactic_pickle\u001b[49m\u001b[43m)\u001b[49m, columns \u001b[38;5;241m=\u001b[39m Y_test_tactic\u001b[38;5;241m.\u001b[39mcolumns)\n",
      "File \u001b[0;32m/vol/bitbucket/lgf21/anaconda3/lib/python3.9/site-packages/sklearn/multiclass.py:457\u001b[0m, in \u001b[0;36mOneVsRestClassifier.predict\u001b[0;34m(self, X)\u001b[0m\n\u001b[1;32m    455\u001b[0m indptr \u001b[38;5;241m=\u001b[39m array\u001b[38;5;241m.\u001b[39marray(\u001b[38;5;124m\"\u001b[39m\u001b[38;5;124mi\u001b[39m\u001b[38;5;124m\"\u001b[39m, [\u001b[38;5;241m0\u001b[39m])\n\u001b[1;32m    456\u001b[0m \u001b[38;5;28;01mfor\u001b[39;00m e \u001b[38;5;129;01min\u001b[39;00m \u001b[38;5;28mself\u001b[39m\u001b[38;5;241m.\u001b[39mestimators_:\n\u001b[0;32m--> 457\u001b[0m     indices\u001b[38;5;241m.\u001b[39mextend(np\u001b[38;5;241m.\u001b[39mwhere(\u001b[43m_predict_binary\u001b[49m\u001b[43m(\u001b[49m\u001b[43me\u001b[49m\u001b[43m,\u001b[49m\u001b[43m \u001b[49m\u001b[43mX\u001b[49m\u001b[43m)\u001b[49m \u001b[38;5;241m>\u001b[39m thresh)[\u001b[38;5;241m0\u001b[39m])\n\u001b[1;32m    458\u001b[0m     indptr\u001b[38;5;241m.\u001b[39mappend(\u001b[38;5;28mlen\u001b[39m(indices))\n\u001b[1;32m    459\u001b[0m data \u001b[38;5;241m=\u001b[39m np\u001b[38;5;241m.\u001b[39mones(\u001b[38;5;28mlen\u001b[39m(indices), dtype\u001b[38;5;241m=\u001b[39m\u001b[38;5;28mint\u001b[39m)\n",
      "File \u001b[0;32m/vol/bitbucket/lgf21/anaconda3/lib/python3.9/site-packages/sklearn/multiclass.py:100\u001b[0m, in \u001b[0;36m_predict_binary\u001b[0;34m(estimator, X)\u001b[0m\n\u001b[1;32m     98\u001b[0m     \u001b[38;5;28;01mreturn\u001b[39;00m estimator\u001b[38;5;241m.\u001b[39mpredict(X)\n\u001b[1;32m     99\u001b[0m \u001b[38;5;28;01mtry\u001b[39;00m:\n\u001b[0;32m--> 100\u001b[0m     score \u001b[38;5;241m=\u001b[39m np\u001b[38;5;241m.\u001b[39mravel(\u001b[43mestimator\u001b[49m\u001b[38;5;241;43m.\u001b[39;49m\u001b[43mdecision_function\u001b[49m\u001b[43m(\u001b[49m\u001b[43mX\u001b[49m\u001b[43m)\u001b[49m)\n\u001b[1;32m    101\u001b[0m \u001b[38;5;28;01mexcept\u001b[39;00m (\u001b[38;5;167;01mAttributeError\u001b[39;00m, \u001b[38;5;167;01mNotImplementedError\u001b[39;00m):\n\u001b[1;32m    102\u001b[0m     \u001b[38;5;66;03m# probabilities of the positive class\u001b[39;00m\n\u001b[1;32m    103\u001b[0m     score \u001b[38;5;241m=\u001b[39m estimator\u001b[38;5;241m.\u001b[39mpredict_proba(X)[:, \u001b[38;5;241m1\u001b[39m]\n",
      "File \u001b[0;32m/vol/bitbucket/lgf21/anaconda3/lib/python3.9/site-packages/sklearn/linear_model/_base.py:407\u001b[0m, in \u001b[0;36mLinearClassifierMixin.decision_function\u001b[0;34m(self, X)\u001b[0m\n\u001b[1;32m    387\u001b[0m \u001b[38;5;124;03m\"\"\"\u001b[39;00m\n\u001b[1;32m    388\u001b[0m \u001b[38;5;124;03mPredict confidence scores for samples.\u001b[39;00m\n\u001b[1;32m    389\u001b[0m \n\u001b[0;32m   (...)\u001b[0m\n\u001b[1;32m    403\u001b[0m \u001b[38;5;124;03m    this class would be predicted.\u001b[39;00m\n\u001b[1;32m    404\u001b[0m \u001b[38;5;124;03m\"\"\"\u001b[39;00m\n\u001b[1;32m    405\u001b[0m check_is_fitted(\u001b[38;5;28mself\u001b[39m)\n\u001b[0;32m--> 407\u001b[0m X \u001b[38;5;241m=\u001b[39m \u001b[38;5;28;43mself\u001b[39;49m\u001b[38;5;241;43m.\u001b[39;49m\u001b[43m_validate_data\u001b[49m\u001b[43m(\u001b[49m\u001b[43mX\u001b[49m\u001b[43m,\u001b[49m\u001b[43m \u001b[49m\u001b[43maccept_sparse\u001b[49m\u001b[38;5;241;43m=\u001b[39;49m\u001b[38;5;124;43m\"\u001b[39;49m\u001b[38;5;124;43mcsr\u001b[39;49m\u001b[38;5;124;43m\"\u001b[39;49m\u001b[43m,\u001b[49m\u001b[43m \u001b[49m\u001b[43mreset\u001b[49m\u001b[38;5;241;43m=\u001b[39;49m\u001b[38;5;28;43;01mFalse\u001b[39;49;00m\u001b[43m)\u001b[49m\n\u001b[1;32m    408\u001b[0m scores \u001b[38;5;241m=\u001b[39m safe_sparse_dot(X, \u001b[38;5;28mself\u001b[39m\u001b[38;5;241m.\u001b[39mcoef_\u001b[38;5;241m.\u001b[39mT, dense_output\u001b[38;5;241m=\u001b[39m\u001b[38;5;28;01mTrue\u001b[39;00m) \u001b[38;5;241m+\u001b[39m \u001b[38;5;28mself\u001b[39m\u001b[38;5;241m.\u001b[39mintercept_\n\u001b[1;32m    409\u001b[0m \u001b[38;5;28;01mreturn\u001b[39;00m scores\u001b[38;5;241m.\u001b[39mravel() \u001b[38;5;28;01mif\u001b[39;00m scores\u001b[38;5;241m.\u001b[39mshape[\u001b[38;5;241m1\u001b[39m] \u001b[38;5;241m==\u001b[39m \u001b[38;5;241m1\u001b[39m \u001b[38;5;28;01melse\u001b[39;00m scores\n",
      "File \u001b[0;32m/vol/bitbucket/lgf21/anaconda3/lib/python3.9/site-packages/sklearn/base.py:585\u001b[0m, in \u001b[0;36mBaseEstimator._validate_data\u001b[0;34m(self, X, y, reset, validate_separately, **check_params)\u001b[0m\n\u001b[1;32m    582\u001b[0m     out \u001b[38;5;241m=\u001b[39m X, y\n\u001b[1;32m    584\u001b[0m \u001b[38;5;28;01mif\u001b[39;00m \u001b[38;5;129;01mnot\u001b[39;00m no_val_X \u001b[38;5;129;01mand\u001b[39;00m check_params\u001b[38;5;241m.\u001b[39mget(\u001b[38;5;124m\"\u001b[39m\u001b[38;5;124mensure_2d\u001b[39m\u001b[38;5;124m\"\u001b[39m, \u001b[38;5;28;01mTrue\u001b[39;00m):\n\u001b[0;32m--> 585\u001b[0m     \u001b[38;5;28;43mself\u001b[39;49m\u001b[38;5;241;43m.\u001b[39;49m\u001b[43m_check_n_features\u001b[49m\u001b[43m(\u001b[49m\u001b[43mX\u001b[49m\u001b[43m,\u001b[49m\u001b[43m \u001b[49m\u001b[43mreset\u001b[49m\u001b[38;5;241;43m=\u001b[39;49m\u001b[43mreset\u001b[49m\u001b[43m)\u001b[49m\n\u001b[1;32m    587\u001b[0m \u001b[38;5;28;01mreturn\u001b[39;00m out\n",
      "File \u001b[0;32m/vol/bitbucket/lgf21/anaconda3/lib/python3.9/site-packages/sklearn/base.py:400\u001b[0m, in \u001b[0;36mBaseEstimator._check_n_features\u001b[0;34m(self, X, reset)\u001b[0m\n\u001b[1;32m    397\u001b[0m     \u001b[38;5;28;01mreturn\u001b[39;00m\n\u001b[1;32m    399\u001b[0m \u001b[38;5;28;01mif\u001b[39;00m n_features \u001b[38;5;241m!=\u001b[39m \u001b[38;5;28mself\u001b[39m\u001b[38;5;241m.\u001b[39mn_features_in_:\n\u001b[0;32m--> 400\u001b[0m     \u001b[38;5;28;01mraise\u001b[39;00m \u001b[38;5;167;01mValueError\u001b[39;00m(\n\u001b[1;32m    401\u001b[0m         \u001b[38;5;124mf\u001b[39m\u001b[38;5;124m\"\u001b[39m\u001b[38;5;124mX has \u001b[39m\u001b[38;5;132;01m{\u001b[39;00mn_features\u001b[38;5;132;01m}\u001b[39;00m\u001b[38;5;124m features, but \u001b[39m\u001b[38;5;132;01m{\u001b[39;00m\u001b[38;5;28mself\u001b[39m\u001b[38;5;241m.\u001b[39m\u001b[38;5;18m__class__\u001b[39m\u001b[38;5;241m.\u001b[39m\u001b[38;5;18m__name__\u001b[39m\u001b[38;5;132;01m}\u001b[39;00m\u001b[38;5;124m \u001b[39m\u001b[38;5;124m\"\u001b[39m\n\u001b[1;32m    402\u001b[0m         \u001b[38;5;124mf\u001b[39m\u001b[38;5;124m\"\u001b[39m\u001b[38;5;124mis expecting \u001b[39m\u001b[38;5;132;01m{\u001b[39;00m\u001b[38;5;28mself\u001b[39m\u001b[38;5;241m.\u001b[39mn_features_in_\u001b[38;5;132;01m}\u001b[39;00m\u001b[38;5;124m features as input.\u001b[39m\u001b[38;5;124m\"\u001b[39m\n\u001b[1;32m    403\u001b[0m     )\n",
      "\u001b[0;31mValueError\u001b[0m: X has 74675 features, but LinearSVC is expecting 69856 features as input."
     ]
    }
   ],
   "source": [
    "Y_test_pred_tactic = pd.DataFrame(tactic_model.predict(X_test_tactic_pickle), columns = Y_test_tactic.columns)"
   ]
  },
  {
   "cell_type": "markdown",
   "id": "edb9ca5d",
   "metadata": {},
   "source": [
    "# Hanging Node:"
   ]
  },
  {
   "cell_type": "code",
   "execution_count": 70,
   "id": "7221bba2",
   "metadata": {},
   "outputs": [],
   "source": [
    "# list of tactics and list of techniques:\n",
    "from sklearn.preprocessing import MinMaxScaler"
   ]
  },
  {
   "cell_type": "code",
   "execution_count": 71,
   "id": "dfe37230",
   "metadata": {},
   "outputs": [
    {
     "name": "stderr",
     "output_type": "stream",
     "text": [
      "/vol/bitbucket/lgf21/anaconda3/lib/python3.9/site-packages/sklearn/base.py:493: FutureWarning: The feature names should match those that were passed during fit. Starting version 1.2, an error will be raised.\n",
      "Feature names unseen at fit time:\n",
      "- agesen\n",
      "- alors\n",
      "- ampleur\n",
      "- anciennes\n",
      "- attaquants\n",
      "- ...\n",
      "Feature names seen at fit time, yet now missing:\n",
      "- 0000000\n",
      "- 0000000010\n",
      "- 0000000020\n",
      "- 0000000030\n",
      "- 0000000040\n",
      "- ...\n",
      "\n",
      "  warnings.warn(message, FutureWarning)\n"
     ]
    },
    {
     "ename": "ValueError",
     "evalue": "X has 69856 features, but LinearSVC is expecting 74675 features as input.",
     "output_type": "error",
     "traceback": [
      "\u001b[0;31m---------------------------------------------------------------------------\u001b[0m",
      "\u001b[0;31mValueError\u001b[0m                                Traceback (most recent call last)",
      "Input \u001b[0;32mIn [71]\u001b[0m, in \u001b[0;36m<cell line: 1>\u001b[0;34m()\u001b[0m\n\u001b[0;32m----> 1\u001b[0m tactic_prob \u001b[38;5;241m=\u001b[39m pd\u001b[38;5;241m.\u001b[39mDataFrame(\u001b[43mtactic_model\u001b[49m\u001b[38;5;241;43m.\u001b[39;49m\u001b[43mdecision_function\u001b[49m\u001b[43m(\u001b[49m\u001b[43mX_test\u001b[49m\u001b[43m)\u001b[49m, columns\u001b[38;5;241m=\u001b[39mY_test_tactic\u001b[38;5;241m.\u001b[39mcolumns)\n",
      "File \u001b[0;32m/vol/bitbucket/lgf21/anaconda3/lib/python3.9/site-packages/sklearn/utils/metaestimators.py:113\u001b[0m, in \u001b[0;36m_AvailableIfDescriptor.__get__.<locals>.<lambda>\u001b[0;34m(*args, **kwargs)\u001b[0m\n\u001b[1;32m    110\u001b[0m         \u001b[38;5;28;01mraise\u001b[39;00m attr_err\n\u001b[1;32m    112\u001b[0m     \u001b[38;5;66;03m# lambda, but not partial, allows help() to work with update_wrapper\u001b[39;00m\n\u001b[0;32m--> 113\u001b[0m     out \u001b[38;5;241m=\u001b[39m \u001b[38;5;28;01mlambda\u001b[39;00m \u001b[38;5;241m*\u001b[39margs, \u001b[38;5;241m*\u001b[39m\u001b[38;5;241m*\u001b[39mkwargs: \u001b[38;5;28;43mself\u001b[39;49m\u001b[38;5;241;43m.\u001b[39;49m\u001b[43mfn\u001b[49m\u001b[43m(\u001b[49m\u001b[43mobj\u001b[49m\u001b[43m,\u001b[49m\u001b[43m \u001b[49m\u001b[38;5;241;43m*\u001b[39;49m\u001b[43margs\u001b[49m\u001b[43m,\u001b[49m\u001b[43m \u001b[49m\u001b[38;5;241;43m*\u001b[39;49m\u001b[38;5;241;43m*\u001b[39;49m\u001b[43mkwargs\u001b[49m\u001b[43m)\u001b[49m  \u001b[38;5;66;03m# noqa\u001b[39;00m\n\u001b[1;32m    114\u001b[0m \u001b[38;5;28;01melse\u001b[39;00m:\n\u001b[1;32m    116\u001b[0m     \u001b[38;5;28;01mdef\u001b[39;00m \u001b[38;5;21mfn\u001b[39m(\u001b[38;5;241m*\u001b[39margs, \u001b[38;5;241m*\u001b[39m\u001b[38;5;241m*\u001b[39mkwargs):\n",
      "File \u001b[0;32m/vol/bitbucket/lgf21/anaconda3/lib/python3.9/site-packages/sklearn/multiclass.py:532\u001b[0m, in \u001b[0;36mOneVsRestClassifier.decision_function\u001b[0;34m(self, X)\u001b[0m\n\u001b[1;32m    529\u001b[0m \u001b[38;5;28;01mif\u001b[39;00m \u001b[38;5;28mlen\u001b[39m(\u001b[38;5;28mself\u001b[39m\u001b[38;5;241m.\u001b[39mestimators_) \u001b[38;5;241m==\u001b[39m \u001b[38;5;241m1\u001b[39m:\n\u001b[1;32m    530\u001b[0m     \u001b[38;5;28;01mreturn\u001b[39;00m \u001b[38;5;28mself\u001b[39m\u001b[38;5;241m.\u001b[39mestimators_[\u001b[38;5;241m0\u001b[39m]\u001b[38;5;241m.\u001b[39mdecision_function(X)\n\u001b[1;32m    531\u001b[0m \u001b[38;5;28;01mreturn\u001b[39;00m np\u001b[38;5;241m.\u001b[39marray(\n\u001b[0;32m--> 532\u001b[0m     [est\u001b[38;5;241m.\u001b[39mdecision_function(X)\u001b[38;5;241m.\u001b[39mravel() \u001b[38;5;28;01mfor\u001b[39;00m est \u001b[38;5;129;01min\u001b[39;00m \u001b[38;5;28mself\u001b[39m\u001b[38;5;241m.\u001b[39mestimators_]\n\u001b[1;32m    533\u001b[0m )\u001b[38;5;241m.\u001b[39mT\n",
      "File \u001b[0;32m/vol/bitbucket/lgf21/anaconda3/lib/python3.9/site-packages/sklearn/multiclass.py:532\u001b[0m, in \u001b[0;36m<listcomp>\u001b[0;34m(.0)\u001b[0m\n\u001b[1;32m    529\u001b[0m \u001b[38;5;28;01mif\u001b[39;00m \u001b[38;5;28mlen\u001b[39m(\u001b[38;5;28mself\u001b[39m\u001b[38;5;241m.\u001b[39mestimators_) \u001b[38;5;241m==\u001b[39m \u001b[38;5;241m1\u001b[39m:\n\u001b[1;32m    530\u001b[0m     \u001b[38;5;28;01mreturn\u001b[39;00m \u001b[38;5;28mself\u001b[39m\u001b[38;5;241m.\u001b[39mestimators_[\u001b[38;5;241m0\u001b[39m]\u001b[38;5;241m.\u001b[39mdecision_function(X)\n\u001b[1;32m    531\u001b[0m \u001b[38;5;28;01mreturn\u001b[39;00m np\u001b[38;5;241m.\u001b[39marray(\n\u001b[0;32m--> 532\u001b[0m     [\u001b[43mest\u001b[49m\u001b[38;5;241;43m.\u001b[39;49m\u001b[43mdecision_function\u001b[49m\u001b[43m(\u001b[49m\u001b[43mX\u001b[49m\u001b[43m)\u001b[49m\u001b[38;5;241m.\u001b[39mravel() \u001b[38;5;28;01mfor\u001b[39;00m est \u001b[38;5;129;01min\u001b[39;00m \u001b[38;5;28mself\u001b[39m\u001b[38;5;241m.\u001b[39mestimators_]\n\u001b[1;32m    533\u001b[0m )\u001b[38;5;241m.\u001b[39mT\n",
      "File \u001b[0;32m/vol/bitbucket/lgf21/anaconda3/lib/python3.9/site-packages/sklearn/linear_model/_base.py:407\u001b[0m, in \u001b[0;36mLinearClassifierMixin.decision_function\u001b[0;34m(self, X)\u001b[0m\n\u001b[1;32m    387\u001b[0m \u001b[38;5;124;03m\"\"\"\u001b[39;00m\n\u001b[1;32m    388\u001b[0m \u001b[38;5;124;03mPredict confidence scores for samples.\u001b[39;00m\n\u001b[1;32m    389\u001b[0m \n\u001b[0;32m   (...)\u001b[0m\n\u001b[1;32m    403\u001b[0m \u001b[38;5;124;03m    this class would be predicted.\u001b[39;00m\n\u001b[1;32m    404\u001b[0m \u001b[38;5;124;03m\"\"\"\u001b[39;00m\n\u001b[1;32m    405\u001b[0m check_is_fitted(\u001b[38;5;28mself\u001b[39m)\n\u001b[0;32m--> 407\u001b[0m X \u001b[38;5;241m=\u001b[39m \u001b[38;5;28;43mself\u001b[39;49m\u001b[38;5;241;43m.\u001b[39;49m\u001b[43m_validate_data\u001b[49m\u001b[43m(\u001b[49m\u001b[43mX\u001b[49m\u001b[43m,\u001b[49m\u001b[43m \u001b[49m\u001b[43maccept_sparse\u001b[49m\u001b[38;5;241;43m=\u001b[39;49m\u001b[38;5;124;43m\"\u001b[39;49m\u001b[38;5;124;43mcsr\u001b[39;49m\u001b[38;5;124;43m\"\u001b[39;49m\u001b[43m,\u001b[49m\u001b[43m \u001b[49m\u001b[43mreset\u001b[49m\u001b[38;5;241;43m=\u001b[39;49m\u001b[38;5;28;43;01mFalse\u001b[39;49;00m\u001b[43m)\u001b[49m\n\u001b[1;32m    408\u001b[0m scores \u001b[38;5;241m=\u001b[39m safe_sparse_dot(X, \u001b[38;5;28mself\u001b[39m\u001b[38;5;241m.\u001b[39mcoef_\u001b[38;5;241m.\u001b[39mT, dense_output\u001b[38;5;241m=\u001b[39m\u001b[38;5;28;01mTrue\u001b[39;00m) \u001b[38;5;241m+\u001b[39m \u001b[38;5;28mself\u001b[39m\u001b[38;5;241m.\u001b[39mintercept_\n\u001b[1;32m    409\u001b[0m \u001b[38;5;28;01mreturn\u001b[39;00m scores\u001b[38;5;241m.\u001b[39mravel() \u001b[38;5;28;01mif\u001b[39;00m scores\u001b[38;5;241m.\u001b[39mshape[\u001b[38;5;241m1\u001b[39m] \u001b[38;5;241m==\u001b[39m \u001b[38;5;241m1\u001b[39m \u001b[38;5;28;01melse\u001b[39;00m scores\n",
      "File \u001b[0;32m/vol/bitbucket/lgf21/anaconda3/lib/python3.9/site-packages/sklearn/base.py:585\u001b[0m, in \u001b[0;36mBaseEstimator._validate_data\u001b[0;34m(self, X, y, reset, validate_separately, **check_params)\u001b[0m\n\u001b[1;32m    582\u001b[0m     out \u001b[38;5;241m=\u001b[39m X, y\n\u001b[1;32m    584\u001b[0m \u001b[38;5;28;01mif\u001b[39;00m \u001b[38;5;129;01mnot\u001b[39;00m no_val_X \u001b[38;5;129;01mand\u001b[39;00m check_params\u001b[38;5;241m.\u001b[39mget(\u001b[38;5;124m\"\u001b[39m\u001b[38;5;124mensure_2d\u001b[39m\u001b[38;5;124m\"\u001b[39m, \u001b[38;5;28;01mTrue\u001b[39;00m):\n\u001b[0;32m--> 585\u001b[0m     \u001b[38;5;28;43mself\u001b[39;49m\u001b[38;5;241;43m.\u001b[39;49m\u001b[43m_check_n_features\u001b[49m\u001b[43m(\u001b[49m\u001b[43mX\u001b[49m\u001b[43m,\u001b[49m\u001b[43m \u001b[49m\u001b[43mreset\u001b[49m\u001b[38;5;241;43m=\u001b[39;49m\u001b[43mreset\u001b[49m\u001b[43m)\u001b[49m\n\u001b[1;32m    587\u001b[0m \u001b[38;5;28;01mreturn\u001b[39;00m out\n",
      "File \u001b[0;32m/vol/bitbucket/lgf21/anaconda3/lib/python3.9/site-packages/sklearn/base.py:400\u001b[0m, in \u001b[0;36mBaseEstimator._check_n_features\u001b[0;34m(self, X, reset)\u001b[0m\n\u001b[1;32m    397\u001b[0m     \u001b[38;5;28;01mreturn\u001b[39;00m\n\u001b[1;32m    399\u001b[0m \u001b[38;5;28;01mif\u001b[39;00m n_features \u001b[38;5;241m!=\u001b[39m \u001b[38;5;28mself\u001b[39m\u001b[38;5;241m.\u001b[39mn_features_in_:\n\u001b[0;32m--> 400\u001b[0m     \u001b[38;5;28;01mraise\u001b[39;00m \u001b[38;5;167;01mValueError\u001b[39;00m(\n\u001b[1;32m    401\u001b[0m         \u001b[38;5;124mf\u001b[39m\u001b[38;5;124m\"\u001b[39m\u001b[38;5;124mX has \u001b[39m\u001b[38;5;132;01m{\u001b[39;00mn_features\u001b[38;5;132;01m}\u001b[39;00m\u001b[38;5;124m features, but \u001b[39m\u001b[38;5;132;01m{\u001b[39;00m\u001b[38;5;28mself\u001b[39m\u001b[38;5;241m.\u001b[39m\u001b[38;5;18m__class__\u001b[39m\u001b[38;5;241m.\u001b[39m\u001b[38;5;18m__name__\u001b[39m\u001b[38;5;132;01m}\u001b[39;00m\u001b[38;5;124m \u001b[39m\u001b[38;5;124m\"\u001b[39m\n\u001b[1;32m    402\u001b[0m         \u001b[38;5;124mf\u001b[39m\u001b[38;5;124m\"\u001b[39m\u001b[38;5;124mis expecting \u001b[39m\u001b[38;5;132;01m{\u001b[39;00m\u001b[38;5;28mself\u001b[39m\u001b[38;5;241m.\u001b[39mn_features_in_\u001b[38;5;132;01m}\u001b[39;00m\u001b[38;5;124m features as input.\u001b[39m\u001b[38;5;124m\"\u001b[39m\n\u001b[1;32m    403\u001b[0m     )\n",
      "\u001b[0;31mValueError\u001b[0m: X has 69856 features, but LinearSVC is expecting 74675 features as input."
     ]
    }
   ],
   "source": [
    "tactic_prob = pd.DataFrame(tactic_model.decision_function(X_test), columns=Y_test_tactic.columns)"
   ]
  },
  {
   "cell_type": "code",
   "execution_count": null,
   "id": "a8272a32",
   "metadata": {},
   "outputs": [],
   "source": [
    "# if scaling at (-1,1) then threshold of .5 \n",
    "# scaling determines improvement \n",
    "# (0-1) performs poorly with threshold of .5 \n",
    "\n",
    "technique_prob = pd.DataFrame(MinMaxScaler((-1, 1)).fit_transform(sv_classifier.decision_function(X_test)), columns=Y_test.columns)"
   ]
  },
  {
   "cell_type": "code",
   "execution_count": null,
   "id": "c512995b",
   "metadata": {},
   "outputs": [],
   "source": [
    "def hanging_node(i, tactic_proba, technique_proba,tactic_threshold=0.5, technique_threshold=0.5, a = 1,b = 0, c=1, d=0):\n",
    "    assert a > technique_threshold and c > technique_threshold and b < tactic_threshold and d < tactic_threshold\n",
    "    pred_tactics = [tactic for tactic in tactic_proba.columns if tactic_proba.iloc[i][tactic] > tactic_threshold]\n",
    "    pred_techniques = [technique for technique in technique_proba.columns if technique_proba.iloc[i][technique] > technique_threshold]\n",
    "    #return pred_tactics, pred_techniques\n",
    "    print((pred_tactics, pred_techniques))\n",
    "    for tactic in tactic_proba.columns:\n",
    "        for technique in tactic_data[tactic]['Technique_ID'][0]:\n",
    "            if technique in pred_techniques and tactic not in pred_tactics:\n",
    "                if technique_proba.iloc[i][technique] > a and tactic_proba.iloc[i][tactic] > b:\n",
    "                    pred_tactics.append(tactic)\n",
    "                elif technique_proba.iloc[i][technique] < c and tactic_proba.iloc[i][tactic] < d:\n",
    "                    pred_techniques.remove(technique)\n",
    "    print(pred_tactics, pred_techniques)\n",
    "    print('-----------------------------')\n",
    "    return pred_tactics, pred_techniques\n",
    "    "
   ]
  },
  {
   "cell_type": "code",
   "execution_count": null,
   "id": "1872a1e3",
   "metadata": {},
   "outputs": [],
   "source": [
    "Y_test_tactics_hanging_node = []\n",
    "Y_test_techniques_hanging_node = []\n",
    "for i in range(len(X_test)):\n",
    "    pred_tactics, pred_techniques = hanging_node(i, tactic_prob, technique_prob,tactic_threshold=0, technique_threshold=0.5,  a = 0.55, b = -0.9, c = 0.95, d = -0.30)\n",
    "    Y_test_tactics_hanging_node.append([1 if tactic in pred_tactics else 0 for tactic in Y_test_tactic.columns])\n",
    "    Y_test_techniques_hanging_node.append([1 if technique in pred_techniques else 0 for technique in Y_test.columns])\n",
    "\n",
    "Y_test_tactics_hanging_node = pd.DataFrame(Y_test_tactics_hanging_node, columns=Y_test_tactic.columns)\n",
    "Y_test_techniques_hanging_node = pd.DataFrame(Y_test_techniques_hanging_node, columns=Y_test.columns)"
   ]
  },
  {
   "cell_type": "code",
   "execution_count": null,
   "id": "222128c8",
   "metadata": {},
   "outputs": [],
   "source": [
    "evaluation(Y_test_tactics_hanging_node, Y_test_tactic)"
   ]
  },
  {
   "cell_type": "code",
   "execution_count": null,
   "id": "b25c0da1",
   "metadata": {},
   "outputs": [],
   "source": [
    "evaluation(Y_test_techniques_hanging_node, Y_test)"
   ]
  },
  {
   "cell_type": "markdown",
   "id": "979199a0",
   "metadata": {},
   "source": [
    "# Train Model on Reports Tactics:"
   ]
  },
  {
   "cell_type": "code",
   "execution_count": null,
   "id": "e392f024",
   "metadata": {},
   "outputs": [],
   "source": [
    "# see if training on only techniques improves or not\n",
    "# only train techniques on reports belonging to a techniques' tactic"
   ]
  },
  {
   "cell_type": "code",
   "execution_count": 183,
   "id": "b5a2b2c4",
   "metadata": {},
   "outputs": [],
   "source": [
    "# Key as technique, value as tactic.\n",
    "\n",
    "from collections import defaultdict\n",
    "tactic_to_technique = defaultdict(list)\n",
    "for tactic in tactic_data:\n",
    "    for technique in tactic_data[tactic]['Technique_ID'][0]:\n",
    "        if tactic in Y_train_tactic.columns:\n",
    "            tactic_to_technique[technique].append(tactic)"
   ]
  },
  {
   "cell_type": "code",
   "execution_count": 184,
   "id": "b28caf84",
   "metadata": {},
   "outputs": [],
   "source": [
    "# check for matching between tactic and technique\n",
    "# find technique that are not in dictionary. \n",
    "# for Y_r, find report that only contains that technique and find what tactics is has \n",
    "\n",
    "for technique in Y_train.columns:\n",
    "    if technique not in tactic_to_technique:\n",
    "        index = Y_r[(Y_r.sum(axis=1)==1) & (Y_r[technique] == 1)].index[0]\n",
    "        tacics = [tactic for tactic in Y_train_tactic.columns if \n",
    "                       int(Y_r_tactic.loc[index, tactic])==1]\n",
    "        tactic_to_technique[technique] = tacics\n",
    "    \n",
    "    "
   ]
  },
  {
   "cell_type": "code",
   "execution_count": 185,
   "id": "4682874f",
   "metadata": {},
   "outputs": [],
   "source": [
    "classifiers = []\n",
    "for technique in Y_train.columns:\n",
    "    indexes = Y_train_tactic[Y_train_tactic.apply(lambda x: any(x[tactic] ==1 for tactic in tactic_to_technique[technique]), axis=1)].index\n",
    "    X_train_technique = X_train.loc[indexes]\n",
    "    Y_train_technique = Y_train.loc[indexes, technique]\n",
    "    clf = LinearSVC(penalty = 'l2', loss = 'squared_hinge', dual = False, max_iter = 1000, class_weight = 'balanced', random_state=42)\n",
    "    clf.fit(X_train_technique, Y_train_technique)\n",
    "    classifiers.append(clf)\n",
    "    "
   ]
  },
  {
   "cell_type": "code",
   "execution_count": 199,
   "id": "fa352cae",
   "metadata": {},
   "outputs": [],
   "source": [
    "Y_pred = pd.DataFrame(0, index=X_test.index, columns=Y_test.columns)\n",
    "for i, technique in enumerate(Y_test.columns):\n",
    "    indexes = Y_test_pred_tactic[Y_test_pred_tactic.apply(lambda x: any(x[tactic] ==1 for tactic in tactic_to_technique[technique]), axis=1)].index\n",
    "    Y_pred.loc[indexes, technique] = classifiers[i].predict(X_test.loc[indexes])"
   ]
  },
  {
   "cell_type": "code",
   "execution_count": 201,
   "id": "1d5a56d1",
   "metadata": {},
   "outputs": [
    {
     "name": "stderr",
     "output_type": "stream",
     "text": [
      "/vol/bitbucket/lgf21/anaconda3/lib/python3.9/site-packages/sklearn/metrics/_classification.py:1318: UndefinedMetricWarning: Precision is ill-defined and being set to 0.0 in labels with no predicted samples. Use `zero_division` parameter to control this behavior.\n",
      "  _warn_prf(average, modifier, msg_start, len(result))\n",
      "/vol/bitbucket/lgf21/anaconda3/lib/python3.9/site-packages/sklearn/metrics/_classification.py:1318: UndefinedMetricWarning: Recall is ill-defined and being set to 0.0 in labels with no true samples. Use `zero_division` parameter to control this behavior.\n",
      "  _warn_prf(average, modifier, msg_start, len(result))\n",
      "/vol/bitbucket/lgf21/anaconda3/lib/python3.9/site-packages/sklearn/metrics/_classification.py:1580: UndefinedMetricWarning: F-score is ill-defined and being set to 0.0 in labels with no true nor predicted samples. Use `zero_division` parameter to control this behavior.\n",
      "  _warn_prf(average, \"true nor predicted\", \"F-score is\", len(true_sum))\n"
     ]
    },
    {
     "data": {
      "text/html": [
       "<div>\n",
       "<style scoped>\n",
       "    .dataframe tbody tr th:only-of-type {\n",
       "        vertical-align: middle;\n",
       "    }\n",
       "\n",
       "    .dataframe tbody tr th {\n",
       "        vertical-align: top;\n",
       "    }\n",
       "\n",
       "    .dataframe thead th {\n",
       "        text-align: right;\n",
       "    }\n",
       "</style>\n",
       "<table border=\"1\" class=\"dataframe\">\n",
       "  <thead>\n",
       "    <tr style=\"text-align: right;\">\n",
       "      <th></th>\n",
       "      <th>metric</th>\n",
       "      <th>result</th>\n",
       "    </tr>\n",
       "  </thead>\n",
       "  <tbody>\n",
       "    <tr>\n",
       "      <th>0</th>\n",
       "      <td>macro precision</td>\n",
       "      <td>0.499174</td>\n",
       "    </tr>\n",
       "    <tr>\n",
       "      <th>1</th>\n",
       "      <td>micro precision</td>\n",
       "      <td>0.505065</td>\n",
       "    </tr>\n",
       "    <tr>\n",
       "      <th>2</th>\n",
       "      <td>macro recall</td>\n",
       "      <td>0.341547</td>\n",
       "    </tr>\n",
       "    <tr>\n",
       "      <th>3</th>\n",
       "      <td>micro recall</td>\n",
       "      <td>0.401380</td>\n",
       "    </tr>\n",
       "    <tr>\n",
       "      <th>4</th>\n",
       "      <td>macro fscore</td>\n",
       "      <td>0.429969</td>\n",
       "    </tr>\n",
       "    <tr>\n",
       "      <th>5</th>\n",
       "      <td>micro fscore</td>\n",
       "      <td>0.480253</td>\n",
       "    </tr>\n",
       "  </tbody>\n",
       "</table>\n",
       "</div>"
      ],
      "text/plain": [
       "            metric    result\n",
       "0  macro precision  0.499174\n",
       "1  micro precision  0.505065\n",
       "2     macro recall  0.341547\n",
       "3     micro recall  0.401380\n",
       "4     macro fscore  0.429969\n",
       "5     micro fscore  0.480253"
      ]
     },
     "execution_count": 201,
     "metadata": {},
     "output_type": "execute_result"
    }
   ],
   "source": [
    "evaluation(Y_pred, Y_test) # performance for technique "
   ]
  },
  {
   "cell_type": "markdown",
   "id": "6d94fb88",
   "metadata": {},
   "source": [
    "# Linking Model:"
   ]
  },
  {
   "cell_type": "code",
   "execution_count": 56,
   "id": "08735f39",
   "metadata": {},
   "outputs": [],
   "source": [
    "data = '../src/scraping/tactic_dataset.json'\n",
    "\n",
    "with open(data) as file:\n",
    "    tactic_data = json.load(file)"
   ]
  },
  {
   "cell_type": "code",
   "execution_count": 60,
   "id": "cc54e65b",
   "metadata": {},
   "outputs": [],
   "source": [
    "df_tactic = pd.DataFrame(tactic_data).transpose()\n"
   ]
  },
  {
   "cell_type": "code",
   "execution_count": 65,
   "id": "38cc3425",
   "metadata": {},
   "outputs": [],
   "source": [
    "df_tactic['Technique_ID'] = df_tactic['Technique_ID'].apply(lambda x: x[0])"
   ]
  },
  {
   "cell_type": "code",
   "execution_count": 67,
   "id": "91a89bc2",
   "metadata": {},
   "outputs": [
    {
     "data": {
      "text/plain": [
       "Index(['Tactic_ID', 'Link', 'Tactic_Name', 'Description', 'Technique_ID'], dtype='object')"
      ]
     },
     "execution_count": 67,
     "metadata": {},
     "output_type": "execute_result"
    }
   ],
   "source": [
    "df_tactic.columns"
   ]
  },
  {
   "cell_type": "code",
   "execution_count": 68,
   "id": "467d969b",
   "metadata": {},
   "outputs": [],
   "source": [
    "df_tactic = df_tactic[['Tactic_ID', 'Technique_ID']]"
   ]
  },
  {
   "cell_type": "code",
   "execution_count": 69,
   "id": "b24ff94b",
   "metadata": {},
   "outputs": [
    {
     "data": {
      "text/html": [
       "<div>\n",
       "<style scoped>\n",
       "    .dataframe tbody tr th:only-of-type {\n",
       "        vertical-align: middle;\n",
       "    }\n",
       "\n",
       "    .dataframe tbody tr th {\n",
       "        vertical-align: top;\n",
       "    }\n",
       "\n",
       "    .dataframe thead th {\n",
       "        text-align: right;\n",
       "    }\n",
       "</style>\n",
       "<table border=\"1\" class=\"dataframe\">\n",
       "  <thead>\n",
       "    <tr style=\"text-align: right;\">\n",
       "      <th></th>\n",
       "      <th>Tactic_ID</th>\n",
       "      <th>Technique_ID</th>\n",
       "    </tr>\n",
       "  </thead>\n",
       "  <tbody>\n",
       "    <tr>\n",
       "      <th>TA0043</th>\n",
       "      <td>TA0043</td>\n",
       "      <td>[T1595, T1592, T1589, T1590, T1591, T1598, T15...</td>\n",
       "    </tr>\n",
       "    <tr>\n",
       "      <th>TA0042</th>\n",
       "      <td>TA0042</td>\n",
       "      <td>[T1583, T1586, T1584, T1587, T1585, T1588, T1608]</td>\n",
       "    </tr>\n",
       "    <tr>\n",
       "      <th>TA0001</th>\n",
       "      <td>TA0001</td>\n",
       "      <td>[T1189, T1190, T1133, T1200, T1566, T1091, T11...</td>\n",
       "    </tr>\n",
       "    <tr>\n",
       "      <th>TA0002</th>\n",
       "      <td>TA0002</td>\n",
       "      <td>[T1059, T1609, T1610, T1203, T1559, T1106, T10...</td>\n",
       "    </tr>\n",
       "    <tr>\n",
       "      <th>TA0003</th>\n",
       "      <td>TA0003</td>\n",
       "      <td>[T1098, T1197, T1547, T1037, T1176, T1554, T11...</td>\n",
       "    </tr>\n",
       "    <tr>\n",
       "      <th>TA0004</th>\n",
       "      <td>TA0004</td>\n",
       "      <td>[T1548, T1134, T1547, T1037, T1543, T1484, T16...</td>\n",
       "    </tr>\n",
       "    <tr>\n",
       "      <th>TA0005</th>\n",
       "      <td>TA0005</td>\n",
       "      <td>[T1548, T1134, T1197, T1612, T1622, T1140, T16...</td>\n",
       "    </tr>\n",
       "    <tr>\n",
       "      <th>TA0006</th>\n",
       "      <td>TA0006</td>\n",
       "      <td>[T1557, T1110, T1555, T1212, T1187, T1606, T10...</td>\n",
       "    </tr>\n",
       "    <tr>\n",
       "      <th>TA0007</th>\n",
       "      <td>TA0007</td>\n",
       "      <td>[T1087, T1010, T1217, T1580, T1538, T1526, T16...</td>\n",
       "    </tr>\n",
       "    <tr>\n",
       "      <th>TA0008</th>\n",
       "      <td>TA0008</td>\n",
       "      <td>[T1210, T1534, T1570, T1563, T1021, T1091, T10...</td>\n",
       "    </tr>\n",
       "    <tr>\n",
       "      <th>TA0009</th>\n",
       "      <td>TA0009</td>\n",
       "      <td>[T1557, T1560, T1123, T1119, T1185, T1115, T15...</td>\n",
       "    </tr>\n",
       "    <tr>\n",
       "      <th>TA0011</th>\n",
       "      <td>TA0011</td>\n",
       "      <td>[T1071, T1092, T1132, T1001, T1568, T1573, T10...</td>\n",
       "    </tr>\n",
       "    <tr>\n",
       "      <th>TA0010</th>\n",
       "      <td>TA0010</td>\n",
       "      <td>[T1020, T1030, T1048, T1041, T1011, T1052, T15...</td>\n",
       "    </tr>\n",
       "    <tr>\n",
       "      <th>TA0040</th>\n",
       "      <td>TA0040</td>\n",
       "      <td>[T1531, T1485, T1486, T1565, T1491, T1561, T14...</td>\n",
       "    </tr>\n",
       "    <tr>\n",
       "      <th>TA0108</th>\n",
       "      <td>TA0108</td>\n",
       "      <td>[T0817, T0819, T0866, T0822, T0883, T0886, T08...</td>\n",
       "    </tr>\n",
       "    <tr>\n",
       "      <th>TA0104</th>\n",
       "      <td>TA0104</td>\n",
       "      <td>[T0858, T0807, T0871, T0823, T0874, T0821, T08...</td>\n",
       "    </tr>\n",
       "    <tr>\n",
       "      <th>TA0110</th>\n",
       "      <td>TA0110</td>\n",
       "      <td>[T0889, T0839, T0873, T0857, T0859]</td>\n",
       "    </tr>\n",
       "    <tr>\n",
       "      <th>TA0111</th>\n",
       "      <td>TA0111</td>\n",
       "      <td>[T0890, T0874]</td>\n",
       "    </tr>\n",
       "    <tr>\n",
       "      <th>TA0103</th>\n",
       "      <td>TA0103</td>\n",
       "      <td>[T0858, T0820, T0872, T0849, T0851, T0856]</td>\n",
       "    </tr>\n",
       "    <tr>\n",
       "      <th>TA0102</th>\n",
       "      <td>TA0102</td>\n",
       "      <td>[T0840, T0842, T0846, T0888, T0887]</td>\n",
       "    </tr>\n",
       "    <tr>\n",
       "      <th>TA0109</th>\n",
       "      <td>TA0109</td>\n",
       "      <td>[T0812, T0866, T0867, T0843, T0886, T0859]</td>\n",
       "    </tr>\n",
       "    <tr>\n",
       "      <th>TA0100</th>\n",
       "      <td>TA0100</td>\n",
       "      <td>[T0802, T0811, T0868, T0877, T0830, T0801, T08...</td>\n",
       "    </tr>\n",
       "    <tr>\n",
       "      <th>TA0101</th>\n",
       "      <td>TA0101</td>\n",
       "      <td>[T0885, T0884, T0869]</td>\n",
       "    </tr>\n",
       "    <tr>\n",
       "      <th>TA0107</th>\n",
       "      <td>TA0107</td>\n",
       "      <td>[T0800, T0878, T0803, T0804, T0805, T0809, T08...</td>\n",
       "    </tr>\n",
       "    <tr>\n",
       "      <th>TA0106</th>\n",
       "      <td>TA0106</td>\n",
       "      <td>[T0806, T0836, T0839, T0856, T0855]</td>\n",
       "    </tr>\n",
       "    <tr>\n",
       "      <th>TA0105</th>\n",
       "      <td>TA0105</td>\n",
       "      <td>[T0879, T0813, T0815, T0826, T0827, T0828, T08...</td>\n",
       "    </tr>\n",
       "  </tbody>\n",
       "</table>\n",
       "</div>"
      ],
      "text/plain": [
       "       Tactic_ID                                       Technique_ID\n",
       "TA0043    TA0043  [T1595, T1592, T1589, T1590, T1591, T1598, T15...\n",
       "TA0042    TA0042  [T1583, T1586, T1584, T1587, T1585, T1588, T1608]\n",
       "TA0001    TA0001  [T1189, T1190, T1133, T1200, T1566, T1091, T11...\n",
       "TA0002    TA0002  [T1059, T1609, T1610, T1203, T1559, T1106, T10...\n",
       "TA0003    TA0003  [T1098, T1197, T1547, T1037, T1176, T1554, T11...\n",
       "TA0004    TA0004  [T1548, T1134, T1547, T1037, T1543, T1484, T16...\n",
       "TA0005    TA0005  [T1548, T1134, T1197, T1612, T1622, T1140, T16...\n",
       "TA0006    TA0006  [T1557, T1110, T1555, T1212, T1187, T1606, T10...\n",
       "TA0007    TA0007  [T1087, T1010, T1217, T1580, T1538, T1526, T16...\n",
       "TA0008    TA0008  [T1210, T1534, T1570, T1563, T1021, T1091, T10...\n",
       "TA0009    TA0009  [T1557, T1560, T1123, T1119, T1185, T1115, T15...\n",
       "TA0011    TA0011  [T1071, T1092, T1132, T1001, T1568, T1573, T10...\n",
       "TA0010    TA0010  [T1020, T1030, T1048, T1041, T1011, T1052, T15...\n",
       "TA0040    TA0040  [T1531, T1485, T1486, T1565, T1491, T1561, T14...\n",
       "TA0108    TA0108  [T0817, T0819, T0866, T0822, T0883, T0886, T08...\n",
       "TA0104    TA0104  [T0858, T0807, T0871, T0823, T0874, T0821, T08...\n",
       "TA0110    TA0110                [T0889, T0839, T0873, T0857, T0859]\n",
       "TA0111    TA0111                                     [T0890, T0874]\n",
       "TA0103    TA0103         [T0858, T0820, T0872, T0849, T0851, T0856]\n",
       "TA0102    TA0102                [T0840, T0842, T0846, T0888, T0887]\n",
       "TA0109    TA0109         [T0812, T0866, T0867, T0843, T0886, T0859]\n",
       "TA0100    TA0100  [T0802, T0811, T0868, T0877, T0830, T0801, T08...\n",
       "TA0101    TA0101                              [T0885, T0884, T0869]\n",
       "TA0107    TA0107  [T0800, T0878, T0803, T0804, T0805, T0809, T08...\n",
       "TA0106    TA0106                [T0806, T0836, T0839, T0856, T0855]\n",
       "TA0105    TA0105  [T0879, T0813, T0815, T0826, T0827, T0828, T08..."
      ]
     },
     "execution_count": 69,
     "metadata": {},
     "output_type": "execute_result"
    }
   ],
   "source": [
    "df_tactic"
   ]
  },
  {
   "cell_type": "code",
   "execution_count": null,
   "id": "ccc8f137",
   "metadata": {},
   "outputs": [],
   "source": [
    "# technique model\n",
    "# Open Pickle: \n",
    "\n",
    "with open('tactic_model.pickle', 'rb') as handle:\n",
    "    tactic_model = pickle.load(handle)"
   ]
  }
 ],
 "metadata": {
  "kernelspec": {
   "display_name": "Python 3 (ipykernel)",
   "language": "python",
   "name": "python3"
  },
  "language_info": {
   "codemirror_mode": {
    "name": "ipython",
    "version": 3
   },
   "file_extension": ".py",
   "mimetype": "text/x-python",
   "name": "python",
   "nbconvert_exporter": "python",
   "pygments_lexer": "ipython3",
   "version": "3.9.12"
  }
 },
 "nbformat": 4,
 "nbformat_minor": 5
}
