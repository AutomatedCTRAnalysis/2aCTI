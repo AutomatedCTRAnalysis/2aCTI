{
 "cells": [
  {
   "cell_type": "code",
   "execution_count": null,
   "id": "4fb32838",
   "metadata": {},
   "outputs": [],
   "source": [
    "from sklearn.feature_extraction.text import CountVectorizer, TfidfVectorizer # matrix construction\n",
    "from sklearn.model_selection import train_test_split\n",
    "from sklearn.metrics import classification_report, confusion_matrix\n",
    "from sklearn.naive_bayes import MultinomialNB\n",
    "\n",
    "import pandas as pd\n",
    "import json\n",
    "import os\n",
    "\n",
    "import spacy\n",
    "import matplotlib\n",
    "import plotly.express as px\n",
    "import plotly.subplots as sp\n",
    "from plotly.subplots import make_subplots\n",
    "from ast import literal_eval\n",
    "\n",
    "import sklearn.metrics\n",
    "import numpy as np"
   ]
  },
  {
   "cell_type": "code",
   "execution_count": null,
   "id": "e7a9978e",
   "metadata": {},
   "outputs": [],
   "source": [
    "nlp = spacy.load(\"en_core_web_sm\", disable=['parser','tagger', 'parser', 'ner']) "
   ]
  },
  {
   "cell_type": "markdown",
   "id": "38909ea4",
   "metadata": {},
   "source": [
    "# Opening Files: "
   ]
  },
  {
   "cell_type": "code",
   "execution_count": null,
   "id": "afd4a1ae",
   "metadata": {},
   "outputs": [],
   "source": [
    "# Processing datasets retrieved from MITRE's Github and our webscraping: \n",
    "\n",
    "dataset1 = \"dataset_full_text.json\"\n",
    "path_data1 =  \"../src/scraping/scraped_data/dataset_full_text.json\"\n",
    "\n",
    "dataset2 = \"dataset_malware_text.json\"\n",
    "path_data2 =  \"../src/scraping/scraped_data/dataset_malware_text.json\"\n",
    "\n",
    "with open(path_data1) as file:\n",
    "    open_data = json.load(file)\n",
    "\n",
    "with open(path_data2) as file: \n",
    "    open_data2 = json.load(file)\n",
    "\n",
    "df1 = pd.DataFrame(open_data).transpose().reset_index(drop = True)\n",
    "\n",
    "df2 = pd.DataFrame(open_data2).transpose().reset_index(drop = False)\n",
    "df2.columns = ['url', 'mitre_domain', 'tech_name', 'tech_id', 'software_id', 'text'] # renaming columns \n",
    "\n"
   ]
  },
  {
   "cell_type": "markdown",
   "id": "72373b4a",
   "metadata": {},
   "source": [
    "# Merging our datasets:"
   ]
  },
  {
   "cell_type": "code",
   "execution_count": null,
   "id": "f340fb17",
   "metadata": {},
   "outputs": [],
   "source": [
    "df = pd.concat([df1, df2], axis = 0)  # Create one Data Frame with both datasets"
   ]
  },
  {
   "cell_type": "markdown",
   "id": "fabae64a",
   "metadata": {},
   "source": [
    "# Cleaning: "
   ]
  },
  {
   "cell_type": "code",
   "execution_count": null,
   "id": "76764176",
   "metadata": {},
   "outputs": [],
   "source": [
    "# Cleaning NAs in text: \n",
    "\n",
    "df['tactic_name'] = df['tactic_name'].fillna(\"\").apply(list) \n",
    "df['software_id'] = df['software_id'].fillna(\"\").apply(list)"
   ]
  },
  {
   "cell_type": "code",
   "execution_count": null,
   "id": "66c1140b",
   "metadata": {},
   "outputs": [],
   "source": [
    "df = df[df['text'] != '\\n']"
   ]
  },
  {
   "cell_type": "code",
   "execution_count": null,
   "id": "a96cfd74",
   "metadata": {},
   "outputs": [],
   "source": [
    "# Cleaning duplicates: \n",
    "\n",
    "dup = df[df.duplicated(subset='text')]"
   ]
  },
  {
   "cell_type": "code",
   "execution_count": null,
   "id": "98f7aa7e",
   "metadata": {},
   "outputs": [],
   "source": [
    "df_no_dup = df.drop_duplicates(subset='text').reset_index(drop=True)"
   ]
  },
  {
   "cell_type": "code",
   "execution_count": null,
   "id": "77da3ca4",
   "metadata": {},
   "outputs": [],
   "source": [
    "for _, row in dup.iterrows():\n",
    "    row_id = df_no_dup[df_no_dup['text'] == row['text']].index[0]\n",
    "    for col in ['mitre_domain', 'tech_id', 'tech_name', 'software_id', 'tactic_name']:\n",
    "        merged_list = df_no_dup.loc[row_id, col]\n",
    "        for item in row[col]:\n",
    "            if item not in merged_list:\n",
    "                merged_list.append(item)\n",
    "        "
   ]
  },
  {
   "cell_type": "markdown",
   "id": "2446d700",
   "metadata": {},
   "source": [
    "# Filetering URLS: "
   ]
  },
  {
   "cell_type": "code",
   "execution_count": null,
   "id": "c6d0d2ca",
   "metadata": {},
   "outputs": [],
   "source": [
    "df = df_no_dup"
   ]
  },
  {
   "cell_type": "code",
   "execution_count": null,
   "id": "3020fd91",
   "metadata": {
    "scrolled": true
   },
   "outputs": [],
   "source": [
    "def is_url_relevant(url):\n",
    "    for word in ['microsoft', 'apple', 'github', 'wikipedia',\n",
    "                 'support.office', 'amazon', 'gitlab', 'capec', 'docker', 'youtube', 'google', 'mitre', 'zip', \n",
    "                 'twitter']:\n",
    "        if word in url:\n",
    "            return False\n",
    "    return True\n",
    "\n",
    "df = df[df['url'].apply(is_url_relevant)]\n",
    "df"
   ]
  },
  {
   "cell_type": "code",
   "execution_count": null,
   "id": "21ef1c27",
   "metadata": {
    "scrolled": true
   },
   "outputs": [],
   "source": [
    "for i, row in df.iterrows():\n",
    "    print('--------------')\n",
    "    print(row['url'])\n",
    "    print('--------------')\n",
    "    print(row['text'])\n",
    "    if i > 10:\n",
    "        break\n",
    "    "
   ]
  },
  {
   "cell_type": "code",
   "execution_count": null,
   "id": "7e76d814",
   "metadata": {},
   "outputs": [],
   "source": [
    "# Save to csv merged and cleaned dataset: \n",
    "\n",
    "df.to_csv(\"../data/merged_dataset.csv\", index = False)\n"
   ]
  },
  {
   "cell_type": "code",
   "execution_count": null,
   "id": "39c81b46",
   "metadata": {
    "scrolled": true
   },
   "outputs": [],
   "source": [
    "df_tech = df.explode(['tech_id']).reset_index(drop = True)"
   ]
  },
  {
   "cell_type": "markdown",
   "id": "fa1fadb0",
   "metadata": {},
   "source": [
    "# Add Tactic to dataset:"
   ]
  },
  {
   "cell_type": "code",
   "execution_count": null,
   "id": "0b409380",
   "metadata": {},
   "outputs": [],
   "source": [
    "df = pd.read_csv('merged_dataset_noMalwareNames.csv')"
   ]
  },
  {
   "cell_type": "code",
   "execution_count": null,
   "id": "2d4d24d0",
   "metadata": {},
   "outputs": [],
   "source": [
    "for col in ['mitre_domain', 'tech_name', 'tech_id', 'software_id']:\n",
    "    df[col] = df[col].apply(literal_eval)"
   ]
  },
  {
   "cell_type": "code",
   "execution_count": null,
   "id": "773887fb",
   "metadata": {},
   "outputs": [],
   "source": [
    "tactic_dataset = \"tactic_dataset.json\"\n",
    "path_dataset = \"../src/tactic_dataset.json\"\n",
    "\n",
    "with open(path_dataset) as file: \n",
    "    open_data = json.load(file)   "
   ]
  },
  {
   "cell_type": "code",
   "execution_count": null,
   "id": "da7e5015",
   "metadata": {},
   "outputs": [],
   "source": [
    "def tactic_list(tech_id):\n",
    "    tactics = []\n",
    "    tech_id_set = set(tech_id)\n",
    "    for tactic_id in open_data:\n",
    "        if len(tech_id_set.intersection(open_data[tactic_id]['Technique_ID'][0])) > 0:\n",
    "            tactics.append(tactic_id)\n",
    "    return tactics"
   ]
  },
  {
   "cell_type": "code",
   "execution_count": null,
   "id": "2313b006",
   "metadata": {},
   "outputs": [],
   "source": [
    "df['tactic_id'] = df['tech_id'].apply(tactic_list)"
   ]
  },
  {
   "cell_type": "markdown",
   "id": "0595881d",
   "metadata": {},
   "source": [
    "# Export Cleaned Dataset: "
   ]
  },
  {
   "cell_type": "code",
   "execution_count": null,
   "id": "2e24d03a",
   "metadata": {},
   "outputs": [],
   "source": [
    "# Export new dataset for training: \n",
    "\n",
    "df.to_csv('../data/training_dataset_full.csv')"
   ]
  }
 ],
 "metadata": {
  "kernelspec": {
   "display_name": "Python 3 (ipykernel)",
   "language": "python",
   "name": "python3"
  },
  "language_info": {
   "codemirror_mode": {
    "name": "ipython",
    "version": 3
   },
   "file_extension": ".py",
   "mimetype": "text/x-python",
   "name": "python",
   "nbconvert_exporter": "python",
   "pygments_lexer": "ipython3",
   "version": "3.9.12"
  }
 },
 "nbformat": 4,
 "nbformat_minor": 5
}
