{
 "cells": [
  {
   "cell_type": "code",
   "execution_count": null,
   "id": "55db359a",
   "metadata": {},
   "outputs": [],
   "source": [
    "# This file is used to run our API"
   ]
  },
  {
   "cell_type": "code",
   "execution_count": 24,
   "id": "a5601ac3",
   "metadata": {},
   "outputs": [],
   "source": [
    "# text preprocessing modules\n",
    "from string import punctuation \n",
    "# text preprocessing modules\n",
    "from nltk.tokenize import word_tokenize\n",
    "import nltk\n",
    "from nltk.corpus import stopwords\n",
    "from nltk.stem import WordNetLemmatizer\n",
    "import re  \n",
    "import os\n",
    "from os.path import dirname, join, realpath\n",
    "import joblib\n",
    "import uvicorn\n",
    "from fastapi import FastAPI\n",
    "import pandas as pd\n",
    "import numpy as np\n",
    "import requests as re \n",
    "\n",
    "import pickle\n",
    "import spacy"
   ]
  },
  {
   "cell_type": "code",
   "execution_count": 2,
   "id": "158e6e5c",
   "metadata": {},
   "outputs": [],
   "source": [
    "app = FastAPI(\n",
    "    title=\"2aCTI\",\n",
    "    description=\"An API for the automated analysis of cyber attack reports\",\n",
    "    version=\"0.1\",\n",
    ")"
   ]
  },
  {
   "cell_type": "code",
   "execution_count": 5,
   "id": "b00aed75",
   "metadata": {},
   "outputs": [],
   "source": [
    "# Open Pickles: \n",
    "\n",
    "with open('tactic_model.pickle', 'rb') as handle:\n",
    "    tactic_model = pickle.load(handle)\n",
    "\n",
    "#with open('technique_model.pickle', 'rb') as handle:\n",
    "#    tactic_model = pickle.load(handle)\n",
    "\n",
    "with open('tfidf_tech.pickle', 'rb') as handle:\n",
    "    tactic_model = pickle.load(handle)\n",
    "    \n",
    "with open('tactic_model_lem.pickle', 'rb') as handle:\n",
    "    tactic_model = pickle.load(handle)\n",
    "        \n",
    "    \n"
   ]
  },
  {
   "cell_type": "code",
   "execution_count": 19,
   "id": "1534c548",
   "metadata": {},
   "outputs": [],
   "source": [
    "# classifier method: \n",
    "def classifier(text):\n",
    "    \n",
    "    # transform text into dataframe\n",
    "    df_text = pd.DataFrame({'Text': text}, index = [0])\n",
    "    \n",
    "    # Open pickles: \n",
    "    with open('tfidf_tac_lemma.pickle', 'rb') as handle:\n",
    "        tfid_vectorizer = pickle.load(handle)\n",
    "    \n",
    "    with open('tactic_model_lem.pickle', 'rb') as handle:\n",
    "        tactic_model = pickle.load(handle)\n",
    "        \n",
    "    # Load labels:\n",
    "      \n",
    "    tactic_list = ['TA0006', 'TA0002', 'TA0040', 'TA0003', 'TA0004', 'TA0008', 'TA0005',\n",
    "       'TA0010', 'TA0007', 'TA0009', 'TA0011', 'TA0001' ]\n",
    "    \n",
    "    d_index_to_label = dict(zip(tactic_model.classes_, tactic_list))\n",
    "\n",
    "   \n",
    "    #with open('technique_model_lemma.pickle', 'rb') as handle:\n",
    "    #    technique_model = pickle.load(handle)\n",
    "    \n",
    "    # Perform TF-IDF\n",
    "    tfidf_input = tfid_vectorizer.transform(df_text)\n",
    "    tfidf_input = pd.DataFrame(tfidf_input.toarray(), columns = tfid_vectorizer.get_feature_names())\n",
    "\n",
    "    # Classify report for techniques: \n",
    "    result = tactic_model.predict(tfidf_input)\n",
    "    result_index = np.flatnonzero(result)\n",
    "    result_labels = [d_index_to_label[i] for i in result_index]\n",
    "    \n",
    "    # Find match in report\n",
    "    #with open('description_model.pickle', 'rb') as handle:\n",
    "    #description_model = pickle.load(handle)\n",
    "    \n",
    "    #description = description_model.predict(tfidf_input)\n",
    "    \n",
    "    return result_labels\n"
   ]
  },
  {
   "cell_type": "code",
   "execution_count": 23,
   "id": "50c6e4dc",
   "metadata": {},
   "outputs": [
    {
     "name": "stderr",
     "output_type": "stream",
     "text": [
      "/vol/bitbucket/lgf21/anaconda3/lib/python3.9/site-packages/sklearn/utils/deprecation.py:87: FutureWarning: Function get_feature_names is deprecated; get_feature_names is deprecated in 1.0 and will be removed in 1.2. Please use get_feature_names_out instead.\n",
      "  warnings.warn(msg, category=FutureWarning)\n"
     ]
    },
    {
     "data": {
      "text/plain": [
       "['TA0005']"
      ]
     },
     "execution_count": 23,
     "metadata": {},
     "output_type": "execute_result"
    }
   ],
   "source": [
    "classifier(\n",
    "'''REDBALDKNIGHT, also known as BRONZE BUTLER and Tick, is a cyberespionage group known to target Japanese organizations such as government agencies (including defense) as well as those in biotechnology, electronics manufacturing, and industrial chemistry. Their campaigns employ the Daserf backdoor (detected by Trend Micro as BKDR_DASERF, otherwise known as Muirim and Nioupale) that has four main capabilities: execute shell commands, download and upload data, take screenshots, and log keystrokes.\n",
    "\n",
    "Our recent telemetry, however, indicates that variants of Daserf were not only used to spy on and steal from Japanese and South Korean targets, but also against Russian, Singaporean, and Chinese enterprises. We also found various versions of Daserf that employ different techniques and use steganography—embedding codes in unexpected mediums or locations (i.e., images)—to conceal themselves better.\n",
    "\n",
    "Like many cyberespionage campaigns, REDBALDKNIGHT’s attacks are intermittent but drawn-out. In fact, REDBALDKNIGHT has been zeroing in on Japanese organizations as early as 2008—at least based on the file properties of the decoy documents they’ve been sending to their targets. The specificity of their targets stems from the social engineering tactics used. The decoy documents they use in their attack chain are written in fluent Japanese, and particularly, created via the Japanese word processor Ichitaro. One of the decoy documents, for instance, was about the “plan of disaster prevention in heisei 20” (Heisei is the current/modern era in Japan).\n",
    "REDBALDKNIGHT’s attacks typically use spear phishing emails as an entry point. Their attachments exploit a vulnerability in Ichitaro, as shown above. These are decoy documents, often used by cyberespionage groups as a distraction while they execute their malware behind the scenes using lures such as “CPR” and “disaster prevention. '''\n",
    ")"
   ]
  },
  {
   "cell_type": "code",
   "execution_count": 28,
   "id": "b871e7e6",
   "metadata": {},
   "outputs": [],
   "source": [
    "myobj_input = '''REDBALDKNIGHT, also known as BRONZE BUTLER and Tick, is a cyberespionage group known to target Japanese organizations such as government agencies (including defense) as well as those in biotechnology, electronics manufacturing, and industrial chemistry. Their campaigns employ the Daserf backdoor (detected by Trend Micro as BKDR_DASERF, otherwise known as Muirim and Nioupale) that has four main capabilities: execute shell commands, download and upload data, take screenshots, and log keystrokes.\n",
    "\n",
    "Our recent telemetry, however, indicates that variants of Daserf were not only used to spy on and steal from Japanese and South Korean targets, but also against Russian, Singaporean, and Chinese enterprises. We also found various versions of Daserf that employ different techniques and use steganography—embedding codes in unexpected mediums or locations (i.e., images)—to conceal themselves better.\n",
    "\n",
    "Like many cyberespionage campaigns, REDBALDKNIGHT’s attacks are intermittent but drawn-out. In fact, REDBALDKNIGHT has been zeroing in on Japanese organizations as early as 2008—at least based on the file properties of the decoy documents they’ve been sending to their targets. The specificity of their targets stems from the social engineering tactics used. The decoy documents they use in their attack chain are written in fluent Japanese, and particularly, created via the Japanese word processor Ichitaro. One of the decoy documents, for instance, was about the “plan of disaster prevention in heisei 20” (Heisei is the current/modern era in Japan).\n",
    "REDBALDKNIGHT’s attacks typically use spear phishing emails as an entry point. Their attachments exploit a vulnerability in Ichitaro, as shown above. These are decoy documents, often used by cyberespionage groups as a distraction while they execute their malware behind the scenes using lures such as “CPR” and “disaster prevention. '''"
   ]
  },
  {
   "cell_type": "code",
   "execution_count": 46,
   "id": "aba5f2e8",
   "metadata": {},
   "outputs": [],
   "source": [
    "headers = {'Content-Type': 'text/text; charset=utf-8'}"
   ]
  },
  {
   "cell_type": "code",
   "execution_count": 53,
   "id": "02aa044b",
   "metadata": {},
   "outputs": [],
   "source": [
    "keys = {\"sentence\": myobj_input.encode('utf-8')}"
   ]
  },
  {
   "cell_type": "code",
   "execution_count": null,
   "id": "32ac1358",
   "metadata": {},
   "outputs": [],
   "source": []
  },
  {
   "cell_type": "code",
   "execution_count": 57,
   "id": "d3f0e62d",
   "metadata": {},
   "outputs": [
    {
     "data": {
      "text/plain": [
       "<Response [500]>"
      ]
     },
     "execution_count": 57,
     "metadata": {},
     "output_type": "execute_result"
    }
   ],
   "source": [
    "re.post(\"http://127.0.0.1:8000/classification\", json = {\"sentence\": \"string\"}, timeout=2.50)"
   ]
  }
 ],
 "metadata": {
  "kernelspec": {
   "display_name": "Python 3 (ipykernel)",
   "language": "python",
   "name": "python3"
  },
  "language_info": {
   "codemirror_mode": {
    "name": "ipython",
    "version": 3
   },
   "file_extension": ".py",
   "mimetype": "text/x-python",
   "name": "python",
   "nbconvert_exporter": "python",
   "pygments_lexer": "ipython3",
   "version": "3.9.12"
  }
 },
 "nbformat": 4,
 "nbformat_minor": 5
}
