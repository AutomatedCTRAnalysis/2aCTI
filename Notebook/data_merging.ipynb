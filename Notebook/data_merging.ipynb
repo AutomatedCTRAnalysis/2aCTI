{
 "cells": [
  {
   "cell_type": "code",
   "execution_count": null,
   "id": "24ccd0db",
   "metadata": {},
   "outputs": [],
   "source": [
    "from sklearn.feature_extraction.text import CountVectorizer, TfidfVectorizer\n",
    "from sklearn.model_selection import train_test_split\n",
    "from sklearn.metrics import classification_report, confusion_matrix, f1_score, fbeta_score, precision_score, recall_score\n",
    "from sklearn.naive_bayes import MultinomialNB\n",
    "from sklearn.svm import LinearSVC\n",
    "from sklearn.linear_model import LogisticRegression, Perceptron, RidgeClassifier, SGDClassifier\n",
    "from sklearn.multiclass import OneVsRestClassifier\n",
    "from sklearn.metrics import multilabel_confusion_matrix, plot_confusion_matrix, classification_report\n",
    "from sklearn.preprocessing import MultiLabelBinarizer\n",
    "from sklearn.metrics.pairwise import cosine_similarity\n",
    "from skmultilearn.adapt import MLkNN\n",
    "from sklearn.multioutput import ClassifierChain\n",
    "from sklearn.ensemble import AdaBoostClassifier, RandomForestClassifier\n",
    "from sklearn.neural_network import MLPClassifier\n",
    "     \n",
    "from nltk.stem.snowball import SnowballStemmer\n",
    "\n",
    "import pandas as pd\n",
    "import json\n",
    "import os\n",
    "import re\n",
    "\n",
    "import gensim \n",
    "from gensim.models import Word2Vec\n",
    "import gensim.downloader\n",
    "\n",
    "import pickle \n",
    "\n",
    "import nltk\n",
    "from nltk.tokenize import word_tokenize\n",
    "\n",
    "import spacy\n",
    "import matplotlib\n",
    "import plotly.express as px\n",
    "import plotly.subplots as sp\n",
    "from plotly.subplots import make_subplots\n",
    "from ast import literal_eval\n",
    "from tqdm import tqdm\n",
    "\n",
    "import sklearn.metrics\n",
    "import numpy as np\n",
    "\n",
    "from sklearn.decomposition import PCA\n",
    "from sklearn.manifold import TSNE"
   ]
  },
  {
   "cell_type": "code",
   "execution_count": null,
   "id": "9ee6d1ae",
   "metadata": {},
   "outputs": [],
   "source": [
    "tqdm.pandas()"
   ]
  },
  {
   "cell_type": "code",
   "execution_count": null,
   "id": "eb799f54",
   "metadata": {},
   "outputs": [],
   "source": [
    "rcatt_data = '../data/rcatt_training_data_original.csv'\n",
    "scraped_data = '../data/training_dataset_full.csv'"
   ]
  },
  {
   "cell_type": "code",
   "execution_count": null,
   "id": "8449fa9a",
   "metadata": {},
   "outputs": [],
   "source": [
    "# transform into dataframes: \n",
    "\n",
    "df_r = pd.read_csv(rcatt_data).reset_index(drop = True)\n",
    "df_r = df_r[~df_r['Text'].duplicated()]\n",
    "df_s = pd.read_csv(scraped_data).reset_index(drop = True).rename(columns={'text': 'Text'})"
   ]
  },
  {
   "cell_type": "code",
   "execution_count": null,
   "id": "316b9232",
   "metadata": {},
   "outputs": [],
   "source": [
    "# Converting from string to list using literal_eval:\n",
    "\n",
    "for col in ['mitre_domain', 'tech_name', 'tech_id', 'tactic_id', 'software_id']:\n",
    "    df_s[col] = df_s[col].apply(literal_eval)"
   ]
  },
  {
   "cell_type": "code",
   "execution_count": null,
   "id": "11133222",
   "metadata": {},
   "outputs": [],
   "source": [
    "mlb = MultiLabelBinarizer()\n",
    "Y_s = mlb.fit_transform(df_s['tech_id'])\n",
    "Y_s = pd.DataFrame(Y_s, columns=mlb.classes_)"
   ]
  },
  {
   "cell_type": "code",
   "execution_count": null,
   "id": "93a22f20",
   "metadata": {},
   "outputs": [],
   "source": [
    "mlb = MultiLabelBinarizer()\n",
    "Y_s_tactic = mlb.fit_transform(df_s['tactic_id'])\n",
    "Y_s_tactic = pd.DataFrame(Y_s_tactic, columns=mlb.classes_)"
   ]
  },
  {
   "cell_type": "code",
   "execution_count": null,
   "id": "ef186d99",
   "metadata": {},
   "outputs": [],
   "source": [
    "X_r = df_r['Text']\n",
    "Y_r = df_r[[col for col in df_r.columns if col.startswith('T') and col[1:].isdecimal()]]"
   ]
  },
  {
   "cell_type": "code",
   "execution_count": null,
   "id": "efdef7f9",
   "metadata": {},
   "outputs": [],
   "source": [
    "Y_r_tactic = df_r[[col for col in df_r.columns if col.startswith('TA')]]\n",
    "s_r = list(set(Y_s.columns).difference(set(Y_r.columns)))\n",
    "r_s = list(set(Y_r.columns).difference(set(Y_s.columns)))\n",
    "rs = list(set(Y_s.columns).intersection(set(Y_r.columns)))"
   ]
  },
  {
   "cell_type": "markdown",
   "id": "24c3d314",
   "metadata": {},
   "source": [
    "## Visualisation of data before dropping techniques: "
   ]
  },
  {
   "cell_type": "code",
   "execution_count": null,
   "id": "312a990a",
   "metadata": {},
   "outputs": [],
   "source": [
    "Y_s.sum(axis=0).sort_values(ascending=False).plot() # the one I collected "
   ]
  },
  {
   "cell_type": "code",
   "execution_count": null,
   "id": "1a881c4a",
   "metadata": {},
   "outputs": [],
   "source": [
    "Y_s_tactic.sum(axis=0).sort_values(ascending=False).plot() # the one I collected "
   ]
  },
  {
   "cell_type": "markdown",
   "id": "3f400582",
   "metadata": {},
   "source": [
    "## Merge datasets:"
   ]
  },
  {
   "cell_type": "code",
   "execution_count": null,
   "id": "c4783ed5",
   "metadata": {},
   "outputs": [],
   "source": [
    "Y1 = Y_s[rs]\n",
    "Y1[r_s] = 0\n",
    "Y_s = Y1[Y1.sum(axis=1)>0] \n",
    "X_s = df_s['Text']\n",
    "X_s = X_s[Y1.sum(axis=1)>0] # all urls who map at least one of the techniques in Y1\n",
    "Y_s_tactic = Y_s_tactic[Y1.sum(axis=1)>0]"
   ]
  },
  {
   "cell_type": "markdown",
   "id": "3babea33",
   "metadata": {},
   "source": [
    "## Split data:"
   ]
  },
  {
   "cell_type": "code",
   "execution_count": null,
   "id": "014174b8",
   "metadata": {},
   "outputs": [],
   "source": [
    "X_r_train, X_test_text, Y_r_train, Y_test, Y_r_train_tactic, Y_test_tactic = train_test_split(X_r, Y_r, Y_r_tactic, test_size=0.3,\n",
    "                                                    random_state = 10)"
   ]
  },
  {
   "cell_type": "code",
   "execution_count": null,
   "id": "86190ea6",
   "metadata": {},
   "outputs": [],
   "source": [
    "X_train_text = pd.concat([X_r_train, X_s]).reset_index(drop=True)"
   ]
  },
  {
   "cell_type": "code",
   "execution_count": null,
   "id": "30a1f0ab",
   "metadata": {},
   "outputs": [],
   "source": [
    "Y_train = pd.concat([Y_r_train, Y_s]).reset_index(drop=True)"
   ]
  },
  {
   "cell_type": "code",
   "execution_count": null,
   "id": "e62f590b",
   "metadata": {},
   "outputs": [],
   "source": [
    "Y_train_tactic = pd.concat([Y_r_train_tactic, Y_s_tactic]).reset_index(drop=True)"
   ]
  },
  {
   "cell_type": "code",
   "execution_count": null,
   "id": "ed0bfb34",
   "metadata": {},
   "outputs": [],
   "source": [
    "Y_train_tactic = Y_train_tactic.dropna(axis=1)"
   ]
  },
  {
   "cell_type": "code",
   "execution_count": null,
   "id": "1e807345",
   "metadata": {},
   "outputs": [],
   "source": [
    "# call methods for feature extraction and evaluation:\n",
    "import sys\n",
    "sys.path.append('../src')\n",
    "\n",
    "from feature_extraction import feature_extraction, evaluation"
   ]
  },
  {
   "cell_type": "code",
   "execution_count": null,
   "id": "cabc0f41",
   "metadata": {},
   "outputs": [],
   "source": [
    "X_train, X_test = feature_extraction('TfIdfVectorizer', X_train_text, X_test_text)"
   ]
  },
  {
   "cell_type": "code",
   "execution_count": null,
   "id": "02974b4c",
   "metadata": {},
   "outputs": [],
   "source": [
    "similarities = cosine_similarity(X_train, X_test)"
   ]
  },
  {
   "cell_type": "code",
   "execution_count": null,
   "id": "3dcf813f",
   "metadata": {},
   "outputs": [],
   "source": [
    "duplicates = set()\n",
    "for i in range(similarities.shape[0]):\n",
    "    for j in range(similarities.shape[1]):\n",
    "        if similarities[i][j] > 0.9:\n",
    "            # print(i, j, similarities[i][j])\n",
    "            duplicates.add(i)"
   ]
  },
  {
   "cell_type": "code",
   "execution_count": null,
   "id": "36cbe673",
   "metadata": {},
   "outputs": [],
   "source": [
    "X_train_text = X_train_text[~X_train_text.index.isin(duplicates)]\n",
    "X_train = X_train[~X_train.index.isin(duplicates)]\n",
    "Y_train = Y_train[~Y_train.index.isin(duplicates)]\n",
    "Y_train_tactic = Y_train_tactic[~Y_train_tactic.index.isin(duplicates)]"
   ]
  },
  {
   "cell_type": "code",
   "execution_count": null,
   "id": "b53c4f74",
   "metadata": {},
   "outputs": [],
   "source": [
    "# save as pickle without lemmatisation:\n",
    "\n",
    "with open('merged_data_no_duplicates.pickle', 'wb') as handle:\n",
    "    pickle.dump((X_train_text, X_test_text, Y_train_tactic, Y_test_tactic, Y_train, Y_test), handle, protocol=pickle.HIGHEST_PROTOCOL)"
   ]
  },
  {
   "cell_type": "markdown",
   "id": "b7d0bddb",
   "metadata": {},
   "source": [
    "# Preprocessing:"
   ]
  },
  {
   "cell_type": "code",
   "execution_count": null,
   "id": "75a928ab",
   "metadata": {},
   "outputs": [],
   "source": [
    "nlp = spacy.load(\"en_core_web_sm\", disable=['ner']) "
   ]
  },
  {
   "cell_type": "code",
   "execution_count": null,
   "id": "27d0d941",
   "metadata": {},
   "outputs": [],
   "source": [
    "# Lemmatisation: \n",
    "\n",
    "X_train_text = X_train_text.apply(lambda x: x if len(x)> 1000000 else \" \".join([y.lemma_ for y in nlp(x)]))\n",
    "X_test_text = X_test_text.apply(lambda x: x if len(x)> 1000000 else \" \".join([y.lemma_ for y in nlp(x)]))"
   ]
  },
  {
   "cell_type": "code",
   "execution_count": null,
   "id": "3cf8641f",
   "metadata": {},
   "outputs": [],
   "source": [
    "# save as pickle with lemmatisation\n",
    "\n",
    "with open('merged_data_lemma.pickle', 'wb') as handle:\n",
    "    pickle.dump((X_train_text, X_test_text, Y_train_tactic, Y_test_tactic, Y_train, Y_test), handle, protocol=pickle.HIGHEST_PROTOCOL)"
   ]
  }
 ],
 "metadata": {
  "kernelspec": {
   "display_name": "Python 3 (ipykernel)",
   "language": "python",
   "name": "python3"
  },
  "language_info": {
   "codemirror_mode": {
    "name": "ipython",
    "version": 3
   },
   "file_extension": ".py",
   "mimetype": "text/x-python",
   "name": "python",
   "nbconvert_exporter": "python",
   "pygments_lexer": "ipython3",
   "version": "3.9.12"
  }
 },
 "nbformat": 4,
 "nbformat_minor": 5
}
