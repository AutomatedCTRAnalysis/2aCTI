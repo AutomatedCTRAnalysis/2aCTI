{
 "cells": [
  {
   "cell_type": "code",
   "execution_count": null,
   "id": "0961156c",
   "metadata": {},
   "outputs": [],
   "source": [
    "from sklearn.feature_extraction.text import CountVectorizer, TfidfVectorizer # matrix construction\n",
    "from sklearn.model_selection import train_test_split\n",
    "from sklearn.metrics import classification_report, confusion_matrix\n",
    "from sklearn.naive_bayes import MultinomialNB\n",
    "\n",
    "import pandas as pd\n",
    "import json\n",
    "import os\n",
    "\n",
    "import spacy\n",
    "import matplotlib\n",
    "import plotly.express as px\n",
    "import plotly.subplots as sp\n",
    "from plotly.subplots import make_subplots\n",
    "from ast import literal_eval\n",
    "import pandas as pd\n",
    "import pickle\n",
    "\n",
    "import sklearn.metrics\n",
    "import numpy as np\n",
    "\n",
    "import gensim \n",
    "from gensim.models import Word2Vec\n",
    "import gensim.downloader\n",
    "from tqdm import tqdm\n",
    "\n",
    "from sklearn.manifold import TSNE\n",
    "import nltk"
   ]
  },
  {
   "cell_type": "code",
   "execution_count": null,
   "id": "620c46f7",
   "metadata": {},
   "outputs": [],
   "source": [
    "tqdm.pandas()"
   ]
  },
  {
   "cell_type": "markdown",
   "id": "d587106f",
   "metadata": {},
   "source": [
    "# Opening Files and Normalisation:"
   ]
  },
  {
   "cell_type": "code",
   "execution_count": null,
   "id": "2d8a1535",
   "metadata": {},
   "outputs": [],
   "source": [
    "# Open Pickle: \n",
    "\n",
    "with open('merged_data_no_duplicates.pickle', 'rb') as handle:\n",
    "    (X_train_text, X_test_text, Y_train, Y_test, _, _) = pickle.load(handle)"
   ]
  },
  {
   "cell_type": "code",
   "execution_count": null,
   "id": "47c08888",
   "metadata": {},
   "outputs": [],
   "source": [
    "Y_train.sum(axis=0).sort_values(ascending=False).plot()"
   ]
  },
  {
   "cell_type": "code",
   "execution_count": null,
   "id": "2c145001",
   "metadata": {},
   "outputs": [],
   "source": [
    "Y_train.sum(axis=0).sort_values(ascending=False).plot(kind='bar')"
   ]
  },
  {
   "cell_type": "code",
   "execution_count": null,
   "id": "25d1f7de",
   "metadata": {},
   "outputs": [],
   "source": [
    "import sys\n",
    "sys.path.append('../src')\n",
    "# call method\n",
    "from feature_extraction import feature_extraction\n"
   ]
  },
  {
   "cell_type": "code",
   "execution_count": null,
   "id": "a6cd5210",
   "metadata": {},
   "outputs": [],
   "source": [
    "glv = gensim.downloader.load('glove-wiki-gigaword-100')"
   ]
  },
  {
   "cell_type": "code",
   "execution_count": null,
   "id": "954440a7",
   "metadata": {},
   "outputs": [],
   "source": [
    "X_train, X_test = feature_extraction('embedding', X_train_text, X_test_text, embedding_type = glv)"
   ]
  },
  {
   "cell_type": "code",
   "execution_count": null,
   "id": "1127cf25",
   "metadata": {},
   "outputs": [],
   "source": [
    "Y_train = Y_train.reset_index(drop=True)"
   ]
  },
  {
   "cell_type": "code",
   "execution_count": null,
   "id": "c1691ff4",
   "metadata": {},
   "outputs": [],
   "source": [
    "# TSNE using vector from glove: \n",
    "\n",
    "\n",
    "X_embedded = TSNE(n_components=2).fit_transform(X_train)\n",
    "\n",
    "df_embeddings = pd.DataFrame(X_embedded)\n",
    "df_embeddings = df_embeddings.rename(columns={0:'x',1:'y'})\n",
    "\n",
    "df_embeddings = pd.concat([df_embeddings, Y_train], axis=1)"
   ]
  },
  {
   "cell_type": "code",
   "execution_count": null,
   "id": "4d22c6d4",
   "metadata": {},
   "outputs": [],
   "source": [
    "# Change the tactic id to identify clusters: \n",
    "\n",
    "fig = px.scatter(\n",
    "    df_embeddings, x ='x', y ='y',\n",
    "    color='TA0007', labels={'color': 'TA0007'},\n",
    "    hover_data=['x'], title = 'Distribution of reports clustered by vocabulary for tactic TA0007')\n",
    "fig.show()\n",
    "\n",
    "# yellow = has tactic\n",
    "# blue = doesn't have tactic \n",
    "# vocabulary associated with this tactic is quite sparse "
   ]
  }
 ],
 "metadata": {
  "kernelspec": {
   "display_name": "Python 3 (ipykernel)",
   "language": "python",
   "name": "python3"
  },
  "language_info": {
   "codemirror_mode": {
    "name": "ipython",
    "version": 3
   },
   "file_extension": ".py",
   "mimetype": "text/x-python",
   "name": "python",
   "nbconvert_exporter": "python",
   "pygments_lexer": "ipython3",
   "version": "3.9.12"
  }
 },
 "nbformat": 4,
 "nbformat_minor": 5
}
